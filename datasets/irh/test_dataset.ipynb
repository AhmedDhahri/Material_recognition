{
 "cells": [
  {
   "cell_type": "code",
   "execution_count": 1,
   "metadata": {},
   "outputs": [],
   "source": [
    "import numpy as np\n",
    "import cv2\n",
    "import os"
   ]
  },
  {
   "cell_type": "code",
   "execution_count": 2,
   "metadata": {},
   "outputs": [
    {
     "name": "stdout",
     "output_type": "stream",
     "text": [
      "stop\n"
     ]
    },
    {
     "ename": "",
     "evalue": "",
     "output_type": "error",
     "traceback": [
      "\u001b[1;31mThe Kernel crashed while executing code in the the current cell or a previous cell. Please review the code in the cell(s) to identify a possible cause of the failure. Click <a href='https://aka.ms/vscodeJupyterKernelCrash'>here</a> for more info. View Jupyter <a href='command:jupyter.viewOutput'>log</a> for further details."
     ]
    }
   ],
   "source": [
    "alpha = 50\n",
    "def on_trackbar_alpha(val):\n",
    "    global alpha \n",
    "    alpha = val\n",
    "cv2.namedWindow(\"fusion\")\n",
    "cv2.createTrackbar(\"alpha\", \"fusion\" , alpha, 100, on_trackbar_alpha)\n",
    "\n",
    "\n",
    "dir, labels, stop = \"files/img_raw\", \"dataset.csv\", False\n",
    "l = os.listdir(dir + \"/rgb\")\n",
    "for e in l:\n",
    "    file_id = int(e.split('_')[0])\n",
    "    rgb_path = dir + '/' + \"rgb\" + '/' + \"%06d_\" % file_id + \"rgb\" + \".png\"\n",
    "    nir_path = dir + '/' + \"nir\" + '/' + \"%06d_\" % file_id + \"nir\" + \".png\"\n",
    "    dpt_path = dir + '/' + \"dpt\" + '/' + \"%06d_\" % file_id + \"dpt\" + \".png\"\n",
    "\n",
    "    rgb = cv2.resize(cv2.imread(rgb_path, 0), (1280, 720))\n",
    "    nir = cv2.resize(cv2.imread(nir_path, 0), (1280, 720))\n",
    "    dpt = cv2.resize(cv2.imread(dpt_path, 0), (1280, 720))\n",
    "\n",
    "    a, c = np.mean(dpt[:, :320]), np.mean(dpt[:, 960:])\n",
    "    a, c, b, d = int(177 + 30/(a - 1)), 1280 - int(196 + 30/(c - 1)), 102, 607\n",
    "    a, c = max(a, 350), max(c, 350)\n",
    "    nir = cv2.resize(nir[b:d, a:c], (1280, 720))\n",
    "\n",
    "    \n",
    "    while True:\n",
    "        alpha_val = alpha * 0.01\n",
    "        out = np.uint8(nir *  alpha_val + rgb * (1.0 - alpha_val))\n",
    "        cv2.imshow(\"fusion\", out)\n",
    "        k = cv2.waitKey(27)\n",
    "        if k == 27:\n",
    "            stop = True\n",
    "            break\n",
    "        elif k == ord(' '):\n",
    "            break\n",
    "    cv2.destroyAllWindows\n",
    "    if stop:\n",
    "        cv2.destroyAllWindows\n",
    "        break"
   ]
  }
 ],
 "metadata": {
  "kernelspec": {
   "display_name": "Python 3.10",
   "language": "python",
   "name": "py310"
  },
  "language_info": {
   "codemirror_mode": {
    "name": "ipython",
    "version": 3
   },
   "file_extension": ".py",
   "mimetype": "text/x-python",
   "name": "python",
   "nbconvert_exporter": "python",
   "pygments_lexer": "ipython3",
   "version": "3.10.12"
  }
 },
 "nbformat": 4,
 "nbformat_minor": 2
}
