{
 "cells": [
  {
   "cell_type": "code",
   "execution_count": 1,
   "id": "6e38749c",
   "metadata": {},
   "outputs": [
    {
     "ename": "SyntaxError",
     "evalue": "invalid syntax (<ipython-input-1-a00d808e3ac7>, line 6)",
     "output_type": "error",
     "traceback": [
      "\u001b[0;36m  File \u001b[0;32m\"<ipython-input-1-a00d808e3ac7>\"\u001b[0;36m, line \u001b[0;32m6\u001b[0m\n\u001b[0;31m    from dataloaders. import VAEDataset, VAEDataset1\u001b[0m\n\u001b[0m                      ^\u001b[0m\n\u001b[0;31mSyntaxError\u001b[0m\u001b[0;31m:\u001b[0m invalid syntax\n"
     ]
    }
   ],
   "source": [
    "import torch\n",
    "from model import *\n",
    "from model2 import Encoder_decoder\n",
    "import model\n",
    "from utils import Combined_Loss, Combined_Loss2\n",
    "from dataloaders. import VAEDataset, VAEDataset1\n",
    "from tqdm import tqdm\n",
    "from torch.utils.data import DataLoader\n",
    "from torchsummary import summary\n",
    "import time\n",
    "from torchvision.models import resnet50, ResNet50_Weights\n",
    "resnet = resnet50(weights=ResNet50_Weights.IMAGENET1K_V2).cuda()"
   ]
  },
  {
   "cell_type": "code",
   "execution_count": null,
   "id": "87973f58",
   "metadata": {},
   "outputs": [],
   "source": [
    "HALF = False\n",
    "PIN_MEM = True\n",
    "BATCH_SIZE_TRAIN = 1\n",
    "BATCH_SIZE_TEST = 1\n",
    "NUM_WORKERS = 0\n",
    "LOAD = True\n",
    "DEPTH = 5\n",
    "train_save = open(\"log/train_loss.txt\", \"a\")\n",
    "test_save = open(\"log/test_loss.txt\", \"a\")\n",
    "\n",
    "vae = Encoder_decoder(DEPTH).cuda()\n",
    "#t = vae.train()\n",
    "if LOAD:\n",
    "    vae.load_state_dict(torch.load(\"w2.pth\"))\n",
    "    t = vae.eval()\n",
    "else:\n",
    "    t = vae.train()\n",
    "#rgb_p = 'archive/FLIR_ADAS_1_3/train/RGB/'\n",
    "#ir__p = 'archive/FLIR_ADAS_1_3/train/thermal_8_bit/'\n",
    "\n",
    "rgb_p = 'archive/dataset/files/img_raw/rgb/'\n",
    "ir__p = 'archive/dataset/files/img_raw/nir/'\n",
    "\n",
    "train_ds = VAEDataset1(rgb_p, ir__p, half=HALF)\n",
    "train_loader = DataLoader(\n",
    "        dataset=train_ds,\n",
    "        batch_size=BATCH_SIZE_TRAIN,\n",
    "        num_workers=NUM_WORKERS,\n",
    "        pin_memory=PIN_MEM,\n",
    "        shuffle=True\n",
    "    )\n",
    "\n",
    "#rgb_vp = 'archive/FLIR_ADAS_1_3/val/RGB/'\n",
    "#ir__vp = 'archive/FLIR_ADAS_1_3/val/thermal_8_bit/'\n",
    "rgb_vp = 'archive/dataset/files/img_raw/rgb/'\n",
    "ir__vp = 'archive/dataset/files/img_raw/nir/'\n",
    "\n",
    "val_ds = VAEDataset1(rgb_vp, ir__vp, half=HALF)\n",
    "val_loader = DataLoader(\n",
    "        dataset=val_ds,\n",
    "        batch_size=BATCH_SIZE_TEST,\n",
    "        num_workers=NUM_WORKERS,\n",
    "        pin_memory=PIN_MEM,\n",
    "        shuffle=True\n",
    "    )\n",
    "\n",
    "\n",
    "optimizer = torch.optim.Adam(vae.parameters(), lr=0.0001)\n",
    "loss = Combined_Loss()\n",
    "loss2 = Combined_Loss2()\n",
    "#summary(vae, [(1,256,256), (3,256,256)])\n"
   ]
  },
  {
   "cell_type": "code",
   "execution_count": null,
   "id": "0b081c6e",
   "metadata": {},
   "outputs": [],
   "source": [
    "def pyramid(ir, rgb):\n",
    "    ir, rgb = [ir.cuda()], [rgb.cuda()]\n",
    "    for i in range(1, DEPTH):\n",
    "        ir.append(nn.functional.interpolate(ir[-1], scale_factor=0.5).cuda())\n",
    "        rgb.append(nn.functional.interpolate(rgb[-1], scale_factor=0.5).cuda())\n",
    "    return ir, rgb"
   ]
  },
  {
   "cell_type": "code",
   "execution_count": 2,
   "id": "664c7737",
   "metadata": {},
   "outputs": [
    {
     "ename": "NameError",
     "evalue": "name 'tqdm' is not defined",
     "output_type": "error",
     "traceback": [
      "\u001b[0;31m---------------------------------------------------------------------------\u001b[0m",
      "\u001b[0;31mNameError\u001b[0m                                 Traceback (most recent call last)",
      "\u001b[0;32m<ipython-input-2-06d203f9075b>\u001b[0m in \u001b[0;36m<module>\u001b[0;34m\u001b[0m\n\u001b[1;32m      1\u001b[0m \u001b[0;32mfor\u001b[0m \u001b[0mepc\u001b[0m \u001b[0;32min\u001b[0m \u001b[0mrange\u001b[0m\u001b[0;34m(\u001b[0m\u001b[0;36m0\u001b[0m\u001b[0;34m,\u001b[0m\u001b[0;36m200\u001b[0m\u001b[0;34m)\u001b[0m\u001b[0;34m:\u001b[0m\u001b[0;34m\u001b[0m\u001b[0;34m\u001b[0m\u001b[0m\n\u001b[1;32m      2\u001b[0m     \u001b[0mepoch_loss\u001b[0m \u001b[0;34m=\u001b[0m \u001b[0;34m[\u001b[0m\u001b[0;34m]\u001b[0m\u001b[0;34m\u001b[0m\u001b[0;34m\u001b[0m\u001b[0m\n\u001b[0;32m----> 3\u001b[0;31m     \u001b[0mr\u001b[0m \u001b[0;34m=\u001b[0m \u001b[0mtqdm\u001b[0m\u001b[0;34m(\u001b[0m\u001b[0menumerate\u001b[0m\u001b[0;34m(\u001b[0m\u001b[0mtrain_loader\u001b[0m\u001b[0;34m)\u001b[0m\u001b[0;34m,\u001b[0m \u001b[0mleave\u001b[0m\u001b[0;34m=\u001b[0m\u001b[0;32mFalse\u001b[0m\u001b[0;34m,\u001b[0m \u001b[0mdesc\u001b[0m\u001b[0;34m=\u001b[0m\u001b[0;34m\"Epoch: {}\"\u001b[0m\u001b[0;34m.\u001b[0m\u001b[0mformat\u001b[0m\u001b[0;34m(\u001b[0m\u001b[0mepc\u001b[0m\u001b[0;34m)\u001b[0m\u001b[0;34m,\u001b[0m \u001b[0mtotal\u001b[0m\u001b[0;34m=\u001b[0m\u001b[0mlen\u001b[0m\u001b[0;34m(\u001b[0m\u001b[0mtrain_loader\u001b[0m\u001b[0;34m)\u001b[0m\u001b[0;34m)\u001b[0m\u001b[0;34m\u001b[0m\u001b[0;34m\u001b[0m\u001b[0m\n\u001b[0m\u001b[1;32m      4\u001b[0m     \u001b[0;32mfor\u001b[0m \u001b[0midx\u001b[0m\u001b[0;34m,\u001b[0m \u001b[0;34m(\u001b[0m\u001b[0mir\u001b[0m\u001b[0;34m,\u001b[0m \u001b[0mrgb\u001b[0m\u001b[0;34m)\u001b[0m \u001b[0;32min\u001b[0m \u001b[0mr\u001b[0m\u001b[0;34m:\u001b[0m\u001b[0;34m\u001b[0m\u001b[0;34m\u001b[0m\u001b[0m\n\u001b[1;32m      5\u001b[0m         \u001b[0mir\u001b[0m\u001b[0;34m,\u001b[0m \u001b[0mrgb\u001b[0m \u001b[0;34m=\u001b[0m \u001b[0mpyramid\u001b[0m\u001b[0;34m(\u001b[0m\u001b[0mir\u001b[0m\u001b[0;34m,\u001b[0m \u001b[0mrgb\u001b[0m\u001b[0;34m)\u001b[0m\u001b[0;34m\u001b[0m\u001b[0;34m\u001b[0m\u001b[0m\n",
      "\u001b[0;31mNameError\u001b[0m: name 'tqdm' is not defined"
     ]
    }
   ],
   "source": [
    "for epc in range(0,200):\n",
    "    epoch_loss = []\n",
    "    r = tqdm(enumerate(train_loader), leave=False, desc=\"Epoch: {}\".format(epc), total=len(train_loader))\n",
    "    for idx, (ir, rgb) in r:\n",
    "        ir, rgb = pyramid(ir, rgb)\n",
    "        If = vae(rgb, ir)\n",
    "        lf = loss2.compute(ir[0], rgb[0], If)\n",
    "        epoch_loss.append(lf.item())\n",
    "        del rgb, ir, If\n",
    "        torch.cuda.empty_cache()\n",
    "        optimizer.zero_grad()\n",
    "        lf.backward()\n",
    "        torch.nn.utils.clip_grad_norm_(vae.parameters(), max_norm=1.0, norm_type=1)\n",
    "        optimizer.step()\n",
    "        r.set_postfix(loss=lf.item())\n",
    "    #save epoch loss list\n",
    "    train_save.write(\"epoch [{}] = \".format(epc) + str(epoch_loss) + '\\n')\n",
    "    #save checkpoint\n",
    "    torch.save(vae.state_dict(), \"w2.pth\")\n",
    "    \n",
    "    #test loss run on val\n",
    "    with torch.no_grad():\n",
    "        e = vae.eval()\n",
    "        ir, rgb = next(iter(val_loader))\n",
    "        ir, rgb = pyramid(ir, rgb)\n",
    "        If = vae(rgb, ir)\n",
    "        lf = loss2.compute(ir[0], rgb[0], If)\n",
    "        print(\"epoch [{}] = \".format(epc) + str(float(lf)))\n",
    "        test_save.write(\"epoch [{}] = \".format(epc) + str(float(lf)) + '\\n')\n",
    "        \n",
    "        del rgb, ir, If\n",
    "        torch.cuda.empty_cache()"
   ]
  },
  {
   "cell_type": "code",
   "execution_count": null,
   "id": "49bee3cd",
   "metadata": {
    "scrolled": true
   },
   "outputs": [],
   "source": [
    "for epc in range(0,200):\n",
    "    epoch_loss = []\n",
    "    r = tqdm(enumerate(train_loader), leave=False, desc=\"Epoch: {}\".format(epc), total=len(train_loader))\n",
    "    for idx, (ir, rgb) in r:\n",
    "        ir, rgb = ir.cuda(), rgb.cuda()\n",
    "        If, mu, sigma = vae(ir, rgb)\n",
    "        lf = loss.compute(ir, rgb, mu, sigma, If)\n",
    "        epoch_loss.append(lf.item())\n",
    "        del rgb, ir, If, mu, sigma\n",
    "        torch.cuda.empty_cache()\n",
    "        optimizer.zero_grad()\n",
    "        lf.backward()\n",
    "        torch.nn.utils.clip_grad_norm_(vae.parameters(), max_norm=1.0, norm_type=1)\n",
    "        optimizer.step()\n",
    "        r.set_postfix(loss=lf.item())\n",
    "        #time.sleep(0.1)\n",
    "    #save epoch loss list\n",
    "    train_save.write(\"epoch [{}] = \".format(epc) + str(epoch_loss) + '\\n')\n",
    "    #save checkpoint\n",
    "    torch.save(vae.state_dict(), \"w2.pth\")\n",
    "    \n",
    "    #test loss run on val\n",
    "    with torch.no_grad():\n",
    "        e = vae.eval()\n",
    "        ir, rgb = next(iter(val_loader))\n",
    "        ir = ir.cuda()\n",
    "        rgb = rgb.cuda()\n",
    "        If, mu, sigma = vae(ir, rgb)\n",
    "        lf = loss.compute(ir, rgb, mu, sigma, If)\n",
    "        print(\"epoch [{}] = \".format(epc) + str(float(lf)))\n",
    "        test_save.write(\"epoch [{}] = \".format(epc) + str(float(lf)) + '\\n')\n",
    "        \n",
    "        del rgb, ir, If, mu, sigma, lf\n",
    "        torch.cuda.empty_cache()"
   ]
  },
  {
   "cell_type": "code",
   "execution_count": null,
   "id": "7c985aa1",
   "metadata": {},
   "outputs": [],
   "source": []
  }
 ],
 "metadata": {
  "kernelspec": {
   "display_name": "Python 3",
   "language": "python",
   "name": "python3"
  },
  "language_info": {
   "codemirror_mode": {
    "name": "ipython",
    "version": 3
   },
   "file_extension": ".py",
   "mimetype": "text/x-python",
   "name": "python",
   "nbconvert_exporter": "python",
   "pygments_lexer": "ipython3",
   "version": "3.8.10"
  }
 },
 "nbformat": 4,
 "nbformat_minor": 5
}
