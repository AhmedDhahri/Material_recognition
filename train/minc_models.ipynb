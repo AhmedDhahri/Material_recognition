{
 "cells": [
  {
   "cell_type": "code",
   "execution_count": 1,
   "id": "9ba52584",
   "metadata": {},
   "outputs": [
    {
     "name": "stderr",
     "output_type": "stream",
     "text": [
      "/home/ahmed/.local/lib/python3.8/site-packages/skimage/io/manage_plugins.py:23: UserWarning: Your installed pillow version is < 8.1.2. Several security issues (CVE-2021-27921, CVE-2021-25290, CVE-2021-25291, CVE-2021-25293, and more) have been fixed in pillow 8.1.2 or higher. We recommend to upgrade this library.\n",
      "  from .collection import imread_collection_wrapper\n"
     ]
    }
   ],
   "source": [
    "import sys\n",
    "sys.path.append(sys.path[0] + \"/..\")\n",
    "\n",
    "from typing import Any\n",
    "import caffe\n",
    "import torch\n",
    "import torch.nn as nn\n",
    "import torch.nn.functional as F\n",
    "import numpy as np\n",
    "from functools import partial\n",
    "from torchvision.models import googlenet\n",
    "from torchvision.models.googlenet import Inception, InceptionAux\n",
    "from torchvision.io import read_image\n",
    "from torchvision.io import ImageReadMode\n",
    "from torch import Tensor\n",
    "from torchsummary import summary\n",
    "from models.googlenet import googlenet as Gnet"
   ]
  },
  {
   "cell_type": "code",
   "execution_count": 2,
   "id": "cdb85b19",
   "metadata": {},
   "outputs": [
    {
     "name": "stderr",
     "output_type": "stream",
     "text": [
      "/home/ahmed/.local/lib/python3.8/site-packages/torchvision/models/googlenet.py:47: FutureWarning: The default weight initialization of GoogleNet will be changed in future releases of torchvision. If you wish to keep the old behavior (which leads to long initialization times due to scipy/scipy#11299), please set init_weights=True.\n",
      "  warnings.warn(\n"
     ]
    }
   ],
   "source": [
    "class BasicConv2d_(nn.Module):\n",
    "    def __init__(self, in_channels: int, out_channels: int, **kwargs: Any):\n",
    "        super().__init__()\n",
    "        self.conv = nn.Conv2d(in_channels, out_channels, bias=True, **kwargs)\n",
    "        self.relu = nn.ReLU(inplace=True)\n",
    "    def forward(self, x: Tensor):\n",
    "        return self.relu(self.conv(x))\n",
    "\n",
    "Inception_ = partial(Inception, conv_block=BasicConv2d_)\n",
    "InceptionAux_ = partial(InceptionAux, conv_block=BasicConv2d_)\n",
    "model = googlenet(num_classes=23, blocks=[BasicConv2d_,  Inception_, InceptionAux_], aux_logits=False)\n",
    "\n",
    "model.maxpool1 = nn.Sequential(nn.MaxPool2d(kernel_size=3, stride=2, padding=0, dilation=1, ceil_mode=True),\n",
    "                                nn.LocalResponseNorm(5, alpha=0.0001, beta=0.75))\n",
    "model.maxpool2 = nn.Sequential(nn.LocalResponseNorm(5, alpha=0.0001, beta=0.75),\n",
    "                               nn.MaxPool2d(kernel_size=3, stride=2, padding=0, dilation=1, ceil_mode=True))\n",
    "model.inception3a.branch3 = nn.Sequential(BasicConv2d_(192, 16, kernel_size=1, stride=(1,1)),\n",
    "                                            BasicConv2d_(16, 32, kernel_size=5, stride=(1,1), padding=(2,2)))\n",
    "model.inception3b.branch3 = nn.Sequential(BasicConv2d_(256, 32, kernel_size=1, stride=(1,1)),\n",
    "                                            BasicConv2d_(32, 96, kernel_size=5, stride=(1,1), padding=(2,2)))\n",
    "model.inception4a.branch3 = nn.Sequential(BasicConv2d_(480, 16, kernel_size=1, stride=(1,1)),\n",
    "                                            BasicConv2d_(16, 48, kernel_size=5, stride=(1,1), padding=(2,2)))\n",
    "model.inception4b.branch3 = nn.Sequential(BasicConv2d_(512, 24, kernel_size=1, stride=(1,1)),\n",
    "                                            BasicConv2d_(24, 64, kernel_size=5, stride=(1,1), padding=(2,2)))\n",
    "model.inception4c.branch3 = nn.Sequential(BasicConv2d_(512, 24, kernel_size=1, stride=(1,1)),\n",
    "                                            BasicConv2d_(24, 64, kernel_size=5, stride=(1,1), padding=(2,2)))\n",
    "model.inception4d.branch3 = nn.Sequential(BasicConv2d_(512, 32, kernel_size=1, stride=(1,1)),\n",
    "                                            BasicConv2d_(32, 64, kernel_size=5, stride=(1,1), padding=(2,2)))\n",
    "model.inception4e.branch3 = nn.Sequential(BasicConv2d_(528, 32, kernel_size=1, stride=(1,1)),\n",
    "                                            BasicConv2d_(32, 128, kernel_size=5, stride=(1,1), padding=(2,2)))\n",
    "model.inception5a.branch3 = nn.Sequential(BasicConv2d_(832, 32, kernel_size=1, stride=(1,1)),\n",
    "                                            BasicConv2d_(32, 128, kernel_size=5, stride=(1,1), padding=(2,2)))\n",
    "model.inception5b.branch3 = nn.Sequential(BasicConv2d_(832, 48, kernel_size=1, stride=(1,1)),\n",
    "                                            BasicConv2d_(48, 128, kernel_size=5, stride=(1,1), padding=(2,2)))\n",
    "model.dropout = nn.Dropout(p=0.4, inplace=False)\n",
    "\n",
    "prototext = '../weights/minc-model/deploy-googlenet.prototxt'\n",
    "caffemodel = '../weights/minc-model/minc-googlenet.caffemodel'\n",
    "net=caffe.Classifier(prototext ,caffemodel)"
   ]
  },
  {
   "cell_type": "code",
   "execution_count": 3,
   "id": "f1228b79",
   "metadata": {},
   "outputs": [],
   "source": [
    "caffe_state_dict = {}\n",
    "for n, w in net.params.items():\n",
    "    caffe_state_dict[n + '_weight'] = net.params[n][0].data\n",
    "    caffe_state_dict[n + '_bias'] = net.params[n][1].data\n",
    "caffe_keys = list(caffe_state_dict.keys())\n",
    "torch_keys = list(model.state_dict().keys())\n"
   ]
  },
  {
   "cell_type": "code",
   "execution_count": 4,
   "id": "40c98f7a",
   "metadata": {},
   "outputs": [],
   "source": [
    "for i in range(len(caffe_keys)):\n",
    "    w = torch.Tensor(caffe_state_dict[caffe_keys[i]])\n",
    "    if model.state_dict()[torch_keys[i]].shape == w.shape:\n",
    "        model.state_dict()[torch_keys[i]] = w\n",
    "    else:\n",
    "        print(\"Error at \", torch_keys[i])"
   ]
  },
  {
   "cell_type": "code",
   "execution_count": 16,
   "id": "a563ea23",
   "metadata": {},
   "outputs": [
    {
     "data": {
      "text/plain": [
       "tensor(14, device='cuda:0')"
      ]
     },
     "execution_count": 16,
     "metadata": {},
     "output_type": "execute_result"
    }
   ],
   "source": [
    "m = Gnet().cuda()\n",
    "m.load_state_dict(torch.load(\"../weights/minc-googlenet.pth\"), strict=False)\n",
    "img = read_image(\"test.png\", mode=ImageReadMode.RGB).cuda()*1.0\n",
    "img = torch.unsqueeze(img, 0)\n",
    "img[:, 0, :, :] = img[:, 0, :, :] - 104\n",
    "img[:, 1, :, :] = img[:, 1, :, :] - 117\n",
    "img[:, 2, :, :] = img[:, 2, :, :] - 124\n",
    "y = m(img)\n",
    "y = torch.argmax(nn.Softmax(dim=1)(y))\n",
    "y"
   ]
  },
  {
   "cell_type": "code",
   "execution_count": null,
   "id": "45f2301b",
   "metadata": {},
   "outputs": [],
   "source": []
  }
 ],
 "metadata": {
  "kernelspec": {
   "display_name": "Python 3",
   "language": "python",
   "name": "python3"
  },
  "language_info": {
   "codemirror_mode": {
    "name": "ipython",
    "version": 3
   },
   "file_extension": ".py",
   "mimetype": "text/x-python",
   "name": "python",
   "nbconvert_exporter": "python",
   "pygments_lexer": "ipython3",
   "version": "3.8.10"
  }
 },
 "nbformat": 4,
 "nbformat_minor": 5
}
