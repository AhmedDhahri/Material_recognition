{
 "cells": [
  {
   "cell_type": "code",
   "execution_count": 16,
   "id": "69134a02",
   "metadata": {},
   "outputs": [
    {
     "name": "stdout",
     "output_type": "stream",
     "text": [
      "2502 {0: 516, 1: 117, 2: 244, 3: 465, 4: 164, 5: 546, 6: 74, 7: 0, 8: 0, 9: 205, 10: 171, 11: 0, 12: 0, 13: 0}\n"
     ]
    }
   ],
   "source": [
    "import numpy as np\n",
    "\n",
    "data = np.genfromtxt(\"../datasets/irh/files/dataset.csv\", delimiter=',')[1:]\n",
    "d = {}\n",
    "for i in range(14):\n",
    "    d[i] = 0\n",
    "for i in range(data.shape[0]):\n",
    "    _, _, _, mat = data[i]\n",
    "    d[int(mat)] += 1\n",
    "print(data.shape[0], d)\n"
   ]
  },
  {
   "cell_type": "code",
   "execution_count": 34,
   "id": "37e342fe",
   "metadata": {},
   "outputs": [],
   "source": [
    "import cv2\n",
    "import torch\n",
    "from torchvision.io import read_image\n",
    "from torchvision.io import ImageReadMode\n",
    "import torchvision.transforms as T\n",
    "import matplotlib.pyplot as plt"
   ]
  },
  {
   "cell_type": "code",
   "execution_count": 2,
   "id": "fa7889de",
   "metadata": {},
   "outputs": [],
   "source": [
    "try:\n",
    "    img = read_image(\"test0.png\")\n",
    "\n",
    "    tr = T.RandomResizedCrop(size=(256, 256), scale=(0.71, 1.41), ratio=(0.75, 1.33)),\n",
    "    img = tr[0](img)\n",
    "    img = img.detach().numpy().transpose(1, 2, 0)\n",
    "\n",
    "    plt.figure()\n",
    "    plt.imshow(img)\n",
    "except:\n",
    "    pass"
   ]
  },
  {
   "cell_type": "code",
   "execution_count": 3,
   "id": "c647b1be",
   "metadata": {},
   "outputs": [
    {
     "data": {
      "text/plain": [
       "torch.Size([1, 200, 200])"
      ]
     },
     "execution_count": 3,
     "metadata": {},
     "output_type": "execute_result"
    }
   ],
   "source": [
    "X = torch.rand(1,200,200)\n",
    "X = T.Grayscale(num_output_channels=3)(X)\n",
    "X.shape"
   ]
  },
  {
   "cell_type": "code",
   "execution_count": 4,
   "id": "8d447cbd",
   "metadata": {},
   "outputs": [
    {
     "data": {
      "text/plain": [
       "2"
      ]
     },
     "execution_count": 4,
     "metadata": {},
     "output_type": "execute_result"
    }
   ],
   "source": [
    "round(1.5)"
   ]
  },
  {
   "cell_type": "code",
   "execution_count": 5,
   "id": "647c81c3",
   "metadata": {},
   "outputs": [
    {
     "ename": "ImportError",
     "evalue": "cannot import name 'MINCDataSet' from 'dataloaders.minc_dataloader' (/home/ahmed/workspace/notebook/matrec/train/../dataloaders/minc_dataloader.py)",
     "output_type": "error",
     "traceback": [
      "\u001b[0;31m---------------------------------------------------------------------------\u001b[0m",
      "\u001b[0;31mImportError\u001b[0m                               Traceback (most recent call last)",
      "\u001b[0;32m<ipython-input-5-c58c43a9ae5b>\u001b[0m in \u001b[0;36m<module>\u001b[0;34m\u001b[0m\n\u001b[1;32m      9\u001b[0m \u001b[0;32mimport\u001b[0m \u001b[0msys\u001b[0m\u001b[0;34m\u001b[0m\u001b[0;34m\u001b[0m\u001b[0m\n\u001b[1;32m     10\u001b[0m \u001b[0msys\u001b[0m\u001b[0;34m.\u001b[0m\u001b[0mpath\u001b[0m\u001b[0;34m.\u001b[0m\u001b[0mappend\u001b[0m\u001b[0;34m(\u001b[0m\u001b[0msys\u001b[0m\u001b[0;34m.\u001b[0m\u001b[0mpath\u001b[0m\u001b[0;34m[\u001b[0m\u001b[0;36m0\u001b[0m\u001b[0;34m]\u001b[0m\u001b[0;34m+\u001b[0m\u001b[0;34m'/../'\u001b[0m\u001b[0;34m)\u001b[0m\u001b[0;34m\u001b[0m\u001b[0;34m\u001b[0m\u001b[0m\n\u001b[0;32m---> 11\u001b[0;31m \u001b[0;32mfrom\u001b[0m \u001b[0mdataloaders\u001b[0m\u001b[0;34m.\u001b[0m\u001b[0mminc_dataloader\u001b[0m \u001b[0;32mimport\u001b[0m \u001b[0mMINCDataset\u001b[0m\u001b[0;34m,\u001b[0m \u001b[0mMINCDataLoader\u001b[0m\u001b[0;34m,\u001b[0m \u001b[0mMINCDataSet\u001b[0m\u001b[0;34m\u001b[0m\u001b[0;34m\u001b[0m\u001b[0m\n\u001b[0m\u001b[1;32m     12\u001b[0m \u001b[0;32mfrom\u001b[0m \u001b[0mutils\u001b[0m\u001b[0;34m.\u001b[0m\u001b[0mloss_resnet\u001b[0m \u001b[0;32mimport\u001b[0m \u001b[0mLossRN\u001b[0m\u001b[0;34m\u001b[0m\u001b[0;34m\u001b[0m\u001b[0m\n\u001b[1;32m     13\u001b[0m \u001b[0;32mfrom\u001b[0m \u001b[0mmodels\u001b[0m\u001b[0;34m.\u001b[0m\u001b[0mdenseFuse\u001b[0m \u001b[0;32mimport\u001b[0m \u001b[0mDenseFuse\u001b[0m\u001b[0;34m,\u001b[0m \u001b[0mDenseFuse_bb\u001b[0m\u001b[0;34m\u001b[0m\u001b[0;34m\u001b[0m\u001b[0m\n",
      "\u001b[0;31mImportError\u001b[0m: cannot import name 'MINCDataSet' from 'dataloaders.minc_dataloader' (/home/ahmed/workspace/notebook/matrec/train/../dataloaders/minc_dataloader.py)"
     ]
    }
   ],
   "source": [
    "import torch\n",
    "import cv2\n",
    "import torch.nn as nn\n",
    "import time\n",
    "from tqdm import tqdm\n",
    "from torchsummary import summary\n",
    "from torch.utils.data import DataLoader\n",
    "from torchvision.models import resnet50, ResNet50_Weights\n",
    "import sys\n",
    "sys.path.append(sys.path[0]+'/../')\n",
    "from dataloaders.minc_dataloader import MINCDataset, MINCDataLoader, MINCDataSet\n",
    "from utils.loss_resnet import LossRN\n",
    "from models.denseFuse import DenseFuse, DenseFuse_bb\n",
    "from models.vae import Variational_Autoencoder, Variational_Autoencoder_bb\n",
    "from models.opticFlow import OF_AE, pyramid, OF_AE_bb\n",
    "import torchvision.transforms as T\n",
    "\n",
    "import matplotlib.pyplot as plt"
   ]
  },
  {
   "cell_type": "code",
   "execution_count": null,
   "id": "88077e25",
   "metadata": {},
   "outputs": [],
   "source": [
    "from tqdm import tqdm\n",
    "\n",
    "for i in tqdm(range(20, 1400000)):\n",
    "    print(i)\n",
    "    time.sleep(1)"
   ]
  },
  {
   "cell_type": "code",
   "execution_count": null,
   "id": "81428fa7",
   "metadata": {},
   "outputs": [],
   "source": [
    "min_path = '/home/ahmed/workspace/notebook/matrec/datasets/minc'\n",
    "labels_path = '/home/ahmed/workspace/notebook/matrec/datasets/minc/train.txt'\n",
    "BATCH_SIZE = 8\n",
    "\n",
    "dataloader = MINCDataSet(min_path, labels_path, size=(384, 384))\n",
    "\n",
    "train_loader = DataLoader(dataset=dataset_train, batch_size=BATCH_SIZE, num_workers=0, pin_memory=False, shuffle=True)\n",
    "x, y = next(iter(train_loader))\n",
    "x = x.permute(0, 2, 3, 1).numpy()\n"
   ]
  },
  {
   "cell_type": "code",
   "execution_count": null,
   "id": "410f95c0",
   "metadata": {},
   "outputs": [],
   "source": [
    "len(dataloader)"
   ]
  },
  {
   "cell_type": "code",
   "execution_count": null,
   "id": "9923967a",
   "metadata": {},
   "outputs": [],
   "source": [
    "Ir = torch.rand(2,1,256,256).cuda()\n",
    "Iv = torch.rand(2,3,256,256).cuda()"
   ]
  },
  {
   "cell_type": "code",
   "execution_count": null,
   "id": "11a2ae1f",
   "metadata": {},
   "outputs": [],
   "source": [
    "m = resnet_fusion(2).cuda()\n",
    "m(Ir, Iv)[0].shape"
   ]
  },
  {
   "cell_type": "code",
   "execution_count": null,
   "id": "1612f4cb",
   "metadata": {},
   "outputs": [],
   "source": [
    "from dataloaders.irh_dataloader import IRHDataset"
   ]
  },
  {
   "cell_type": "code",
   "execution_count": null,
   "id": "adec9572",
   "metadata": {},
   "outputs": [],
   "source": [
    "path = '/home/ahmed/workspace/notebook/matrec/datasets/irh/files/patches/'\n",
    "labels_path = '/home/ahmed/workspace/notebook/matrec/datasets/irh/files/patches/labels.csv'\n",
    "\n",
    "dataset = IRHDataset(path, labels_path)\n",
    "dataloader = DataLoader(dataset=dataset, batch_size=8, num_workers=0, pin_memory=False, shuffle=True)\n"
   ]
  },
  {
   "cell_type": "code",
   "execution_count": null,
   "id": "835b0da4",
   "metadata": {},
   "outputs": [],
   "source": [
    "r = tqdm(enumerate(dataloader), leave=False, desc=\"Epoch: {}\".format(1), total=len(dataloader))\n",
    "for idx, (x_rgb, x_nir, x_dpt, y) in r:\n",
    "    print(x_rgb.shape)\n",
    "    print(x_nir.shape)\n",
    "    print(x_dpt.shape)\n",
    "    print(y)\n",
    "    print()\n"
   ]
  },
  {
   "cell_type": "code",
   "execution_count": null,
   "id": "6d64ff57",
   "metadata": {},
   "outputs": [],
   "source": [
    "import pandas as pd"
   ]
  },
  {
   "cell_type": "code",
   "execution_count": null,
   "id": "29f5d3d9",
   "metadata": {},
   "outputs": [],
   "source": [
    "df = pd.read_csv(\"../datasets/minc/train.txt\")\n",
    "df = df.sort_values(\"class\")\n"
   ]
  },
  {
   "cell_type": "code",
   "execution_count": null,
   "id": "09565d15",
   "metadata": {},
   "outputs": [],
   "source": [
    "vc = df[\"class\"].value_counts()\n",
    "dict_minc_2_irh = {1:11, 2:2, 3:1, 4:2, 5:7, 6:7,\n",
    "                                7:3, 8:7, 9:4, 10:5, 11:6, 12:7,\n",
    "                                13:8, 14:9, 15:10, 16:1, 17:7,\n",
    "                                18:7, 19:11, 20:7, 21:9, 22:7, 23:12}\n",
    "new_vc = [0] * 12\n",
    "for i in range(vc.size):\n",
    "    new_vc[dict_minc_2_irh[i+1]-1] = new_vc[dict_minc_2_irh[i+1]-1] + vc[i]\n",
    "new_vc\n"
   ]
  },
  {
   "cell_type": "code",
   "execution_count": null,
   "id": "f857ebc3",
   "metadata": {},
   "outputs": [],
   "source": [
    "fig, axs = plt.subplots(4,2, figsize=(15, 30))\n",
    "for i in range(4):\n",
    "    for j in range(2):\n",
    "        axs[i, j].set_title('Material ' + str(1 + y[i*2+j].item()))\n",
    "        axs[i, j].imshow(x[i*2+j])"
   ]
  },
  {
   "cell_type": "code",
   "execution_count": null,
   "id": "44b54c4b",
   "metadata": {},
   "outputs": [],
   "source": [
    "[e for e in range(4)]"
   ]
  },
  {
   "cell_type": "code",
   "execution_count": null,
   "id": "43237d80",
   "metadata": {},
   "outputs": [],
   "source": [
    "x = torch.Tensor([1])\n",
    "x"
   ]
  },
  {
   "cell_type": "code",
   "execution_count": null,
   "id": "e5ceaaa1",
   "metadata": {},
   "outputs": [],
   "source": [
    "x = torch.stack([x, x], 0)\n",
    "x.shape"
   ]
  },
  {
   "cell_type": "code",
   "execution_count": null,
   "id": "6a80d702",
   "metadata": {},
   "outputs": [],
   "source": [
    "t = torch.rand(8,23)\n",
    "t"
   ]
  },
  {
   "cell_type": "code",
   "execution_count": null,
   "id": "539330e3",
   "metadata": {},
   "outputs": [],
   "source": [
    "t = torch.argsort(t, dim=1, descending=True)[:,:5]\n",
    "t"
   ]
  },
  {
   "cell_type": "code",
   "execution_count": null,
   "id": "4af646df",
   "metadata": {},
   "outputs": [],
   "source": [
    "y = torch.Tensor([[19], [9], [19], [9], [9], [9], [9], [0]])\n"
   ]
  },
  {
   "cell_type": "code",
   "execution_count": null,
   "id": "ff0c1703",
   "metadata": {},
   "outputs": [],
   "source": [
    "y == t"
   ]
  },
  {
   "cell_type": "code",
   "execution_count": null,
   "id": "83cd7a6c",
   "metadata": {},
   "outputs": [],
   "source": [
    "model = nn.Sequential()\n",
    "optimizer = torch.optim.Adam(model.parameters(), lr=0.0001)\n"
   ]
  },
  {
   "cell_type": "code",
   "execution_count": null,
   "id": "8ef65b78",
   "metadata": {},
   "outputs": [],
   "source": []
  }
 ],
 "metadata": {
  "kernelspec": {
   "display_name": "Python 3",
   "language": "python",
   "name": "python3"
  },
  "language_info": {
   "codemirror_mode": {
    "name": "ipython",
    "version": 3
   },
   "file_extension": ".py",
   "mimetype": "text/x-python",
   "name": "python",
   "nbconvert_exporter": "python",
   "pygments_lexer": "ipython3",
   "version": "3.8.10"
  }
 },
 "nbformat": 4,
 "nbformat_minor": 5
}
