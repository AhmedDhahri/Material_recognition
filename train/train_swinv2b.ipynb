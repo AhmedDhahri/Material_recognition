{
 "cells": [
  {
   "cell_type": "code",
   "execution_count": 1,
   "id": "eba8db07",
   "metadata": {},
   "outputs": [],
   "source": [
    "%load_ext autoreload\n",
    "%autoreload 2\n",
    "import sys\n",
    "sys.path.append(sys.path[0]+'/../')\n",
    "sys.path.append(sys.path[0]+'/../utils')\n",
    "\n",
    "import torch\n",
    "import torch.nn as nn\n",
    "import time\n",
    "from tqdm import tqdm\n",
    "from torchsummary import summary\n",
    "from torch.utils.data import DataLoader\n",
    "from torch.utils.tensorboard import SummaryWriter\n",
    "\n",
    "from dataloaders.minc_dataloader import MINCDataset, MINCDataLoader\n",
    "from utils import CosineDecayLR, Metrics\n",
    "\n",
    "from torchvision.models import swin_v2_b, Swin_V2_B_Weights\n"
   ]
  },
  {
   "cell_type": "code",
   "execution_count": 2,
   "id": "3abc1901",
   "metadata": {},
   "outputs": [],
   "source": [
    "minc_path = '/home/ahmed/workspace/notebook/matrec/datasets/minc'\n",
    "labels_path = '/home/ahmed/workspace/notebook/matrec/datasets/minc/train.txt'\n",
    "labels_path_t = '/home/ahmed/workspace/notebook/matrec/datasets/minc/test.txt'\n",
    "checkpoint = \"../weights/swin_v2b_minc.pth\"\n",
    "\n",
    "BATCH_SIZE = 8\n",
    "TRAIN_ITER = 2000\n",
    "TEST_ITER = 400\n",
    "size = 256\n",
    "\n",
    "LOAD = True\n",
    "lr = 4e-5\n",
    "start = 58000\n",
    "\n",
    "train_loader = MINCDataLoader(minc_path, labels_path, batch_size=BATCH_SIZE, size=size, f=0.16)\n",
    "test_loader = DataLoader(dataset=MINCDataset(minc_path, labels_path_t, size=(size, size)), \n",
    "                         batch_size=BATCH_SIZE, num_workers=0, pin_memory=False, shuffle=True)"
   ]
  },
  {
   "cell_type": "code",
   "execution_count": 3,
   "id": "4e24654d",
   "metadata": {},
   "outputs": [],
   "source": [
    "model = swin_v2_b(weights=Swin_V2_B_Weights.IMAGENET1K_V1)\n",
    "\n",
    "if LOAD:\n",
    "    model.load_state_dict(torch.load(checkpoint), strict=False)\n",
    "model = model.train()\n",
    "model = model.cuda()\n",
    "optimizer = torch.optim.AdamW(model.parameters(), lr=lr, weight_decay=1e-8)\n",
    "lr_scheduler = CosineDecayLR(optimizer, lr, 540000)\n",
    "loss = Metrics()"
   ]
  },
  {
   "cell_type": "code",
   "execution_count": 4,
   "id": "8e3e0f9b",
   "metadata": {
    "scrolled": false
   },
   "outputs": [
    {
     "name": "stderr",
     "output_type": "stream",
     "text": [
      "Epoch 2 starting from iteration 58000:   0%|          | 1/120251 [01:56<3905:18:08, 116.92s/it, loss=0.135]"
     ]
    },
    {
     "name": "stdout",
     "output_type": "stream",
     "text": [
      "Iteration: 58000 \n",
      "Test N 2-29 : 78.34375 \n",
      "Learning rate: 1.3704052214771513e-06\n"
     ]
    },
    {
     "name": "stderr",
     "output_type": "stream",
     "text": [
      "Epoch 2 starting from iteration 58000:   2%|▏         | 2001/120251 [17:52<1181:49:38, 35.98s/it, loss=1.27]  "
     ]
    },
    {
     "name": "stdout",
     "output_type": "stream",
     "text": [
      "Iteration: 60000 \n",
      "Test N 2-30 : 79.75 \n",
      "Learning rate: 1.2870096832093726e-06\n"
     ]
    },
    {
     "name": "stderr",
     "output_type": "stream",
     "text": [
      "Epoch 2 starting from iteration 58000:   3%|▎         | 4001/120251 [33:40<1149:58:33, 35.61s/it, loss=0.118]  "
     ]
    },
    {
     "name": "stdout",
     "output_type": "stream",
     "text": [
      "Iteration: 62000 \n",
      "Test N 2-31 : 79.0625 \n",
      "Learning rate: 1.2061475842818337e-06\n"
     ]
    },
    {
     "name": "stderr",
     "output_type": "stream",
     "text": [
      "Epoch 2 starting from iteration 58000:   5%|▍         | 6001/120251 [49:31<1186:20:41, 37.38s/it, loss=0.263] "
     ]
    },
    {
     "name": "stdout",
     "output_type": "stream",
     "text": [
      "Iteration: 64000 \n",
      "Test N 2-32 : 79.5625 \n",
      "Learning rate: 1.1278298721283276e-06\n"
     ]
    },
    {
     "name": "stderr",
     "output_type": "stream",
     "text": [
      "Epoch 2 starting from iteration 58000:   7%|▋         | 8001/120251 [1:05:26<1124:51:15, 36.08s/it, loss=0.332] "
     ]
    },
    {
     "name": "stdout",
     "output_type": "stream",
     "text": [
      "Iteration: 66000 \n",
      "Test N 2-33 : 80.96875 \n",
      "Learning rate: 1.052067149713414e-06\n"
     ]
    },
    {
     "name": "stderr",
     "output_type": "stream",
     "text": [
      "Epoch 2 starting from iteration 58000:   8%|▊         | 10001/120251 [1:21:09<1095:00:24, 35.76s/it, loss=0.589]"
     ]
    },
    {
     "name": "stdout",
     "output_type": "stream",
     "text": [
      "Iteration: 68000 \n",
      "Test N 2-34 : 79.71875 \n",
      "Learning rate: 9.788696740969295e-07\n"
     ]
    },
    {
     "name": "stderr",
     "output_type": "stream",
     "text": [
      "Epoch 2 starting from iteration 58000:  10%|▉         | 12001/120251 [1:37:04<1082:52:08, 36.01s/it, loss=0.583] "
     ]
    },
    {
     "name": "stdout",
     "output_type": "stream",
     "text": [
      "Iteration: 70000 \n",
      "Test N 2-35 : 79.40625 \n",
      "Learning rate: 9.082473550453619e-07\n"
     ]
    },
    {
     "name": "stderr",
     "output_type": "stream",
     "text": [
      "Epoch 2 starting from iteration 58000:  12%|█▏        | 14001/120251 [1:52:57<1070:58:46, 36.29s/it, loss=0.0986]"
     ]
    },
    {
     "name": "stdout",
     "output_type": "stream",
     "text": [
      "Iteration: 72000 \n",
      "Test N 2-36 : 79.46875 \n",
      "Learning rate: 8.402097536902221e-07\n"
     ]
    },
    {
     "name": "stderr",
     "output_type": "stream",
     "text": [
      "Epoch 2 starting from iteration 58000:  13%|█▎        | 16001/120251 [2:08:51<1056:50:05, 36.50s/it, loss=0.0524]"
     ]
    },
    {
     "name": "stdout",
     "output_type": "stream",
     "text": [
      "Iteration: 74000 \n",
      "Test N 2-37 : 79.875 \n",
      "Learning rate: 7.747660812336221e-07\n"
     ]
    },
    {
     "name": "stderr",
     "output_type": "stream",
     "text": [
      "Epoch 2 starting from iteration 58000:  15%|█▍        | 18001/120251 [2:24:38<1019:35:21, 35.90s/it, loss=0.341] "
     ]
    },
    {
     "name": "stdout",
     "output_type": "stream",
     "text": [
      "Iteration: 76000 \n",
      "Test N 2-38 : 80.6875 \n",
      "Learning rate: 7.11925197701222e-07\n"
     ]
    },
    {
     "name": "stderr",
     "output_type": "stream",
     "text": [
      "Epoch 2 starting from iteration 58000:  17%|█▋        | 20001/120251 [2:40:34<992:45:02, 35.65s/it, loss=0.724]  "
     ]
    },
    {
     "name": "stdout",
     "output_type": "stream",
     "text": [
      "Iteration: 78000 \n",
      "Test N 2-39 : 78.34375 \n",
      "Learning rate: 6.516956107427241e-07\n"
     ]
    },
    {
     "name": "stderr",
     "output_type": "stream",
     "text": [
      "Epoch 2 starting from iteration 58000:  18%|█▊        | 22001/120251 [2:56:24<989:11:26, 36.25s/it, loss=0.0882] "
     ]
    },
    {
     "name": "stdout",
     "output_type": "stream",
     "text": [
      "Iteration: 80000 \n",
      "Test N 2-40 : 80.03125 \n",
      "Learning rate: 5.940854744800706e-07\n"
     ]
    },
    {
     "name": "stderr",
     "output_type": "stream",
     "text": [
      "Epoch 2 starting from iteration 58000:  20%|█▉        | 24001/120251 [3:12:25<974:14:26, 36.44s/it, loss=1.14]   "
     ]
    },
    {
     "name": "stdout",
     "output_type": "stream",
     "text": [
      "Iteration: 82000 \n",
      "Test N 2-41 : 80.3125 \n",
      "Learning rate: 5.391025884035239e-07\n"
     ]
    },
    {
     "name": "stderr",
     "output_type": "stream",
     "text": [
      "Epoch 2 starting from iteration 58000:  22%|██▏       | 26001/120251 [3:28:17<915:34:43, 34.97s/it, loss=0.295] "
     ]
    },
    {
     "name": "stdout",
     "output_type": "stream",
     "text": [
      "Iteration: 84000 \n",
      "Test N 2-42 : 80.78125 \n",
      "Learning rate: 4.867543963157162e-07\n"
     ]
    },
    {
     "name": "stderr",
     "output_type": "stream",
     "text": [
      "Epoch 2 starting from iteration 58000:  23%|██▎       | 28001/120251 [3:44:01<914:25:02, 35.68s/it, loss=0.0324] "
     ]
    },
    {
     "name": "stdout",
     "output_type": "stream",
     "text": [
      "Iteration: 86000 \n",
      "Test N 2-43 : 81.15625 \n",
      "Learning rate: 4.3704798532388847e-07\n"
     ]
    },
    {
     "name": "stderr",
     "output_type": "stream",
     "text": [
      "Epoch 2 starting from iteration 58000:  25%|██▍       | 30001/120251 [3:59:47<897:58:14, 35.82s/it, loss=0.269]  "
     ]
    },
    {
     "name": "stdout",
     "output_type": "stream",
     "text": [
      "Iteration: 88000 \n",
      "Test N 2-44 : 80.125 \n",
      "Learning rate: 3.899900848804139e-07\n"
     ]
    },
    {
     "name": "stderr",
     "output_type": "stream",
     "text": [
      "Epoch 2 starting from iteration 58000:  27%|██▋       | 32001/120251 [4:15:40<880:09:14, 35.90s/it, loss=0.255]  "
     ]
    },
    {
     "name": "stdout",
     "output_type": "stream",
     "text": [
      "Iteration: 90000 \n",
      "Test N 2-45 : 80.5625 \n",
      "Learning rate: 3.455870658717353e-07\n"
     ]
    },
    {
     "name": "stderr",
     "output_type": "stream",
     "text": [
      "Epoch 2 starting from iteration 58000:  28%|██▊       | 34001/120251 [4:31:38<855:38:15, 35.71s/it, loss=0.305]  "
     ]
    },
    {
     "name": "stdout",
     "output_type": "stream",
     "text": [
      "Iteration: 92000 \n",
      "Test N 2-46 : 78.1875 \n",
      "Learning rate: 3.038449397558396e-07\n"
     ]
    },
    {
     "name": "stderr",
     "output_type": "stream",
     "text": [
      "Epoch 2 starting from iteration 58000:  30%|██▉       | 36001/120251 [4:47:25<810:13:45, 34.62s/it, loss=0.242]  "
     ]
    },
    {
     "name": "stdout",
     "output_type": "stream",
     "text": [
      "Iteration: 94000 \n",
      "Test N 2-47 : 81.46875 \n",
      "Learning rate: 2.6476935774841783e-07\n"
     ]
    },
    {
     "name": "stderr",
     "output_type": "stream",
     "text": [
      "Epoch 2 starting from iteration 58000:  32%|███▏      | 38001/120251 [5:03:16<808:57:52, 35.41s/it, loss=0.000944]"
     ]
    },
    {
     "name": "stdout",
     "output_type": "stream",
     "text": [
      "Iteration: 96000 \n",
      "Test N 2-48 : 79.625 \n",
      "Learning rate: 2.2836561005776803e-07\n"
     ]
    },
    {
     "name": "stderr",
     "output_type": "stream",
     "text": [
      "Epoch 2 starting from iteration 58000:  33%|███▎      | 40001/120251 [5:19:01<802:00:26, 35.98s/it, loss=0.343]   "
     ]
    },
    {
     "name": "stdout",
     "output_type": "stream",
     "text": [
      "Iteration: 98000 \n",
      "Test N 2-49 : 79.6875 \n",
      "Learning rate: 1.9463862516859277e-07\n"
     ]
    },
    {
     "name": "stderr",
     "output_type": "stream",
     "text": [
      "Epoch 2 starting from iteration 58000:  35%|███▍      | 42001/120251 [5:34:43<780:08:10, 35.89s/it, loss=0.543] "
     ]
    },
    {
     "name": "stdout",
     "output_type": "stream",
     "text": [
      "Iteration: 100000 \n",
      "Test N 2-50 : 78.25 \n",
      "Learning rate: 1.6359296917476619e-07\n"
     ]
    },
    {
     "name": "stderr",
     "output_type": "stream",
     "text": [
      "Epoch 2 starting from iteration 58000:  37%|███▋      | 44001/120251 [5:50:19<744:39:07, 35.16s/it, loss=0.759]  "
     ]
    },
    {
     "name": "stdout",
     "output_type": "stream",
     "text": [
      "Iteration: 102000 \n",
      "Test N 2-51 : 80.21875 \n",
      "Learning rate: 1.3523284516113955e-07\n"
     ]
    },
    {
     "name": "stderr",
     "output_type": "stream",
     "text": [
      "Epoch 2 starting from iteration 58000:  38%|███▊      | 46001/120251 [6:05:56<722:39:35, 35.04s/it, loss=0.957] "
     ]
    },
    {
     "name": "stdout",
     "output_type": "stream",
     "text": [
      "Iteration: 104000 \n",
      "Test N 2-52 : 79.59375 \n",
      "Learning rate: 1.09562092634532e-07\n"
     ]
    },
    {
     "name": "stderr",
     "output_type": "stream",
     "text": [
      "Epoch 2 starting from iteration 58000:  40%|███▉      | 48001/120251 [6:21:51<725:33:15, 36.15s/it, loss=0.119]  "
     ]
    },
    {
     "name": "stdout",
     "output_type": "stream",
     "text": [
      "Iteration: 106000 \n",
      "Test N 2-53 : 79.78125 \n",
      "Learning rate: 8.65841870039108e-08\n"
     ]
    },
    {
     "name": "stderr",
     "output_type": "stream",
     "text": [
      "Epoch 2 starting from iteration 58000:  42%|████▏     | 50001/120251 [6:37:35<693:55:38, 35.56s/it, loss=0.0675]"
     ]
    },
    {
     "name": "stdout",
     "output_type": "stream",
     "text": [
      "Iteration: 108000 \n",
      "Test N 2-54 : 79.6875 \n",
      "Learning rate: 6.630223910987887e-08\n"
     ]
    },
    {
     "name": "stderr",
     "output_type": "stream",
     "text": [
      "Epoch 2 starting from iteration 58000:  43%|████▎     | 52001/120251 [6:53:26<666:48:13, 35.17s/it, loss=0.00253]"
     ]
    },
    {
     "name": "stdout",
     "output_type": "stream",
     "text": [
      "Iteration: 110000 \n",
      "Test N 2-55 : 80.78125 \n",
      "Learning rate: 4.871899480351605e-08\n"
     ]
    },
    {
     "name": "stderr",
     "output_type": "stream",
     "text": [
      "Epoch 2 starting from iteration 58000:  45%|████▍     | 54001/120251 [7:09:17<656:21:14, 35.67s/it, loss=0.00462]"
     ]
    },
    {
     "name": "stdout",
     "output_type": "stream",
     "text": [
      "Iteration: 112000 \n",
      "Test N 2-56 : 80.5625 \n",
      "Learning rate: 3.383683457463649e-08\n"
     ]
    },
    {
     "name": "stderr",
     "output_type": "stream",
     "text": [
      "Epoch 2 starting from iteration 58000:  47%|████▋     | 56001/120251 [7:25:05<623:34:49, 34.94s/it, loss=0.00741]"
     ]
    },
    {
     "name": "stdout",
     "output_type": "stream",
     "text": [
      "Iteration: 114000 \n",
      "Test N 2-57 : 80.25 \n",
      "Learning rate: 2.1657773229508684e-08\n"
     ]
    },
    {
     "name": "stderr",
     "output_type": "stream",
     "text": [
      "Epoch 2 starting from iteration 58000:  48%|████▊     | 58001/120251 [7:40:52<612:55:02, 35.45s/it, loss=0.259]  "
     ]
    },
    {
     "name": "stdout",
     "output_type": "stream",
     "text": [
      "Iteration: 116000 \n",
      "Test N 2-58 : 81.8125 \n",
      "Learning rate: 1.2183459618084759e-08\n"
     ]
    },
    {
     "name": "stderr",
     "output_type": "stream",
     "text": [
      "Epoch 2 starting from iteration 58000:  50%|████▉     | 60001/120251 [7:56:35<577:49:51, 34.53s/it, loss=0.00488]"
     ]
    },
    {
     "name": "stdout",
     "output_type": "stream",
     "text": [
      "Iteration: 118000 \n",
      "Test N 2-59 : 80.40625 \n",
      "Learning rate: 5.415176410765721e-09\n"
     ]
    },
    {
     "name": "stderr",
     "output_type": "stream",
     "text": [
      "Epoch 2 starting from iteration 58000:  52%|█████▏    | 62001/120251 [8:12:22<556:16:17, 34.38s/it, loss=0.0921] "
     ]
    },
    {
     "name": "stdout",
     "output_type": "stream",
     "text": [
      "Iteration: 120000 \n",
      "Test N 2-60 : 79.53125 \n",
      "Learning rate: 1.3538399247559064e-09\n"
     ]
    },
    {
     "name": "stderr",
     "output_type": "stream",
     "text": [
      "Epoch 2 starting from iteration 58000:  53%|█████▎    | 64001/120251 [8:28:05<560:08:16, 35.85s/it, loss=0.193]  "
     ]
    },
    {
     "name": "stdout",
     "output_type": "stream",
     "text": [
      "Iteration: 122000 \n",
      "Test N 2-61 : 80.53125 \n",
      "Learning rate: 0.0\n"
     ]
    },
    {
     "name": "stderr",
     "output_type": "stream",
     "text": [
      "Epoch 2 starting from iteration 58000:  55%|█████▍    | 66001/120251 [8:43:52<545:07:07, 36.17s/it, loss=0.403] "
     ]
    },
    {
     "name": "stdout",
     "output_type": "stream",
     "text": [
      "Iteration: 124000 \n",
      "Test N 2-62 : 78.875 \n",
      "Learning rate: 1.3538399247559064e-09\n"
     ]
    },
    {
     "name": "stderr",
     "output_type": "stream",
     "text": [
      "Epoch 2 starting from iteration 58000:  57%|█████▋    | 68001/120251 [8:59:32<514:52:20, 35.47s/it, loss=0.194] "
     ]
    },
    {
     "name": "stdout",
     "output_type": "stream",
     "text": [
      "Iteration: 126000 \n",
      "Test N 2-63 : 78.34375 \n",
      "Learning rate: 5.415176410765721e-09\n"
     ]
    },
    {
     "name": "stderr",
     "output_type": "stream",
     "text": [
      "Epoch 2 starting from iteration 58000:  58%|█████▊    | 70001/120251 [9:15:21<497:15:08, 35.62s/it, loss=0.159] "
     ]
    },
    {
     "name": "stdout",
     "output_type": "stream",
     "text": [
      "Iteration: 128000 \n",
      "Test N 2-64 : 80.4375 \n",
      "Learning rate: 1.2183459618084759e-08\n"
     ]
    },
    {
     "name": "stderr",
     "output_type": "stream",
     "text": [
      "Epoch 2 starting from iteration 58000:  60%|█████▉    | 72001/120251 [9:31:14<492:15:45, 36.73s/it, loss=0.215]  "
     ]
    },
    {
     "name": "stdout",
     "output_type": "stream",
     "text": [
      "Iteration: 130000 \n",
      "Test N 2-65 : 80.78125 \n",
      "Learning rate: 2.1657773229508684e-08\n"
     ]
    },
    {
     "name": "stderr",
     "output_type": "stream",
     "text": [
      "Epoch 2 starting from iteration 58000:  62%|██████▏   | 74001/120251 [9:47:30<477:20:00, 37.15s/it, loss=0.0687]"
     ]
    },
    {
     "name": "stdout",
     "output_type": "stream",
     "text": [
      "Iteration: 132000 \n",
      "Test N 2-66 : 79.625 \n",
      "Learning rate: 3.383683457463649e-08\n"
     ]
    },
    {
     "name": "stderr",
     "output_type": "stream",
     "text": [
      "Epoch 2 starting from iteration 58000:  63%|██████▎   | 76001/120251 [10:03:58<457:08:10, 37.19s/it, loss=0.00391]"
     ]
    },
    {
     "name": "stdout",
     "output_type": "stream",
     "text": [
      "Iteration: 134000 \n",
      "Test N 2-67 : 79.375 \n",
      "Learning rate: 4.871899480351605e-08\n"
     ]
    },
    {
     "name": "stderr",
     "output_type": "stream",
     "text": [
      "                                                                                                                  \r"
     ]
    },
    {
     "ename": "KeyboardInterrupt",
     "evalue": "",
     "output_type": "error",
     "traceback": [
      "\u001b[0;31m---------------------------------------------------------------------------\u001b[0m",
      "\u001b[0;31mKeyboardInterrupt\u001b[0m                         Traceback (most recent call last)",
      "\u001b[0;32m<ipython-input-4-77333c020c65>\u001b[0m in \u001b[0;36m<module>\u001b[0;34m\u001b[0m\n\u001b[1;32m      9\u001b[0m         \u001b[0mlf\u001b[0m \u001b[0;34m=\u001b[0m \u001b[0mloss\u001b[0m\u001b[0;34m.\u001b[0m\u001b[0mcompute\u001b[0m\u001b[0;34m(\u001b[0m\u001b[0my_pred\u001b[0m\u001b[0;34m,\u001b[0m \u001b[0my\u001b[0m\u001b[0;34m)\u001b[0m\u001b[0;34m\u001b[0m\u001b[0;34m\u001b[0m\u001b[0m\n\u001b[1;32m     10\u001b[0m         \u001b[0mlf\u001b[0m\u001b[0;34m.\u001b[0m\u001b[0mbackward\u001b[0m\u001b[0;34m(\u001b[0m\u001b[0;34m)\u001b[0m\u001b[0;34m\u001b[0m\u001b[0;34m\u001b[0m\u001b[0m\n\u001b[0;32m---> 11\u001b[0;31m         \u001b[0mtorch\u001b[0m\u001b[0;34m.\u001b[0m\u001b[0mnn\u001b[0m\u001b[0;34m.\u001b[0m\u001b[0mutils\u001b[0m\u001b[0;34m.\u001b[0m\u001b[0mclip_grad_norm_\u001b[0m\u001b[0;34m(\u001b[0m\u001b[0mmodel\u001b[0m\u001b[0;34m.\u001b[0m\u001b[0mparameters\u001b[0m\u001b[0;34m(\u001b[0m\u001b[0;34m)\u001b[0m\u001b[0;34m,\u001b[0m \u001b[0;36m5.0\u001b[0m\u001b[0;34m)\u001b[0m\u001b[0;34m\u001b[0m\u001b[0;34m\u001b[0m\u001b[0m\n\u001b[0m\u001b[1;32m     12\u001b[0m         \u001b[0moptimizer\u001b[0m\u001b[0;34m.\u001b[0m\u001b[0mstep\u001b[0m\u001b[0;34m(\u001b[0m\u001b[0;34m)\u001b[0m\u001b[0;34m\u001b[0m\u001b[0;34m\u001b[0m\u001b[0m\n\u001b[1;32m     13\u001b[0m         \u001b[0moptimizer\u001b[0m\u001b[0;34m.\u001b[0m\u001b[0mzero_grad\u001b[0m\u001b[0;34m(\u001b[0m\u001b[0;34m)\u001b[0m\u001b[0;34m\u001b[0m\u001b[0;34m\u001b[0m\u001b[0m\n",
      "\u001b[0;32m~/.local/lib/python3.8/site-packages/torch/nn/utils/clip_grad.py\u001b[0m in \u001b[0;36mclip_grad_norm_\u001b[0;34m(parameters, max_norm, norm_type, error_if_nonfinite, foreach)\u001b[0m\n\u001b[1;32m     74\u001b[0m     \u001b[0;32mfor\u001b[0m \u001b[0;34m(\u001b[0m\u001b[0;34m(\u001b[0m\u001b[0mdevice\u001b[0m\u001b[0;34m,\u001b[0m \u001b[0m_\u001b[0m\u001b[0;34m)\u001b[0m\u001b[0;34m,\u001b[0m \u001b[0;34m[\u001b[0m\u001b[0mgrads\u001b[0m\u001b[0;34m]\u001b[0m\u001b[0;34m)\u001b[0m \u001b[0;32min\u001b[0m \u001b[0mgrouped_grads\u001b[0m\u001b[0;34m.\u001b[0m\u001b[0mitems\u001b[0m\u001b[0;34m(\u001b[0m\u001b[0;34m)\u001b[0m\u001b[0;34m:\u001b[0m\u001b[0;34m\u001b[0m\u001b[0;34m\u001b[0m\u001b[0m\n\u001b[1;32m     75\u001b[0m         \u001b[0;32mif\u001b[0m \u001b[0;34m(\u001b[0m\u001b[0mforeach\u001b[0m \u001b[0;32mis\u001b[0m \u001b[0;32mNone\u001b[0m \u001b[0;32mor\u001b[0m \u001b[0mforeach\u001b[0m\u001b[0;34m)\u001b[0m \u001b[0;32mand\u001b[0m \u001b[0m_has_foreach_support\u001b[0m\u001b[0;34m(\u001b[0m\u001b[0mgrads\u001b[0m\u001b[0;34m,\u001b[0m \u001b[0mdevice\u001b[0m\u001b[0;34m=\u001b[0m\u001b[0mdevice\u001b[0m\u001b[0;34m)\u001b[0m\u001b[0;34m:\u001b[0m\u001b[0;34m\u001b[0m\u001b[0;34m\u001b[0m\u001b[0m\n\u001b[0;32m---> 76\u001b[0;31m             \u001b[0mtorch\u001b[0m\u001b[0;34m.\u001b[0m\u001b[0m_foreach_mul_\u001b[0m\u001b[0;34m(\u001b[0m\u001b[0mgrads\u001b[0m\u001b[0;34m,\u001b[0m \u001b[0mclip_coef_clamped\u001b[0m\u001b[0;34m.\u001b[0m\u001b[0mto\u001b[0m\u001b[0;34m(\u001b[0m\u001b[0mdevice\u001b[0m\u001b[0;34m)\u001b[0m\u001b[0;34m)\u001b[0m  \u001b[0;31m# type: ignore[call-overload]\u001b[0m\u001b[0;34m\u001b[0m\u001b[0;34m\u001b[0m\u001b[0m\n\u001b[0m\u001b[1;32m     77\u001b[0m         \u001b[0;32melif\u001b[0m \u001b[0mforeach\u001b[0m\u001b[0;34m:\u001b[0m\u001b[0;34m\u001b[0m\u001b[0;34m\u001b[0m\u001b[0m\n\u001b[1;32m     78\u001b[0m             \u001b[0;32mraise\u001b[0m \u001b[0mRuntimeError\u001b[0m\u001b[0;34m(\u001b[0m\u001b[0;34mf'foreach=True was passed, but can\\'t use the foreach API on {device.type} tensors'\u001b[0m\u001b[0;34m)\u001b[0m\u001b[0;34m\u001b[0m\u001b[0;34m\u001b[0m\u001b[0m\n",
      "\u001b[0;31mKeyboardInterrupt\u001b[0m: "
     ]
    }
   ],
   "source": [
    "#One epoch done\n",
    "for epc in range(2, 3):\n",
    "    ticket = \"Epoch {} starting from iteration {}: \".format(epc, start)\n",
    "    \n",
    "    r = tqdm(range(start, len(train_loader)), leave=False, desc=ticket, total=len(train_loader)-start)    \n",
    "    for idx in r:\n",
    "        x, y = train_loader[idx]\n",
    "        y_pred = model(x.cuda())\n",
    "        lf = loss.compute(y_pred, y)\n",
    "        lf.backward()\n",
    "        torch.nn.utils.clip_grad_norm_(model.parameters(), 5.0)\n",
    "        optimizer.step()\n",
    "        optimizer.zero_grad()\n",
    "        r.set_postfix(loss=lf.item())\n",
    "        \n",
    "        if idx % TRAIN_ITER == 0:\n",
    "            #save checkpoint\n",
    "            if idx != start:\n",
    "                torch.save(model.state_dict(), checkpoint)\n",
    "            #decrease lr\n",
    "            lr = lr_scheduler.step(epc * 180000 + start + idx)\n",
    "            #test loss run on val\n",
    "            with torch.no_grad():\n",
    "                ac = 0\n",
    "                for i in range(TEST_ITER):\n",
    "                    x, y = next(iter(test_loader))\n",
    "                    y_pred = model(x.cuda())\n",
    "                    ac = ac + loss.accuracy(y_pred, y)\n",
    "                ac = ac/TEST_ITER\n",
    "                print(\"Iteration:\", idx,\n",
    "                    \"\\nTest N\", str(epc) + '-' + str(idx//TRAIN_ITER) + ' : ' + str(float(ac)),\n",
    "                     \"\\nLearning rate:\", lr,\n",
    "                     )\n",
    "    start = 0\n",
    "    torch.save(model.state_dict(), checkpoint)"
   ]
  },
  {
   "cell_type": "code",
   "execution_count": null,
   "id": "40ab84fa",
   "metadata": {},
   "outputs": [],
   "source": []
  }
 ],
 "metadata": {
  "kernelspec": {
   "display_name": "Python 3",
   "language": "python",
   "name": "python3"
  },
  "language_info": {
   "codemirror_mode": {
    "name": "ipython",
    "version": 3
   },
   "file_extension": ".py",
   "mimetype": "text/x-python",
   "name": "python",
   "nbconvert_exporter": "python",
   "pygments_lexer": "ipython3",
   "version": "3.8.10"
  }
 },
 "nbformat": 4,
 "nbformat_minor": 5
}
