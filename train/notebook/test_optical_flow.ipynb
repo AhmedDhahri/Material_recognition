{
 "cells": [
  {
   "cell_type": "code",
   "execution_count": 1,
   "id": "a467b8ab",
   "metadata": {},
   "outputs": [],
   "source": [
    "import torch\n",
    "import torch.nn as nn\n",
    "from model2 import Encoder_decoder"
   ]
  },
  {
   "cell_type": "code",
   "execution_count": 2,
   "id": "a4f14b30",
   "metadata": {},
   "outputs": [
    {
     "name": "stdout",
     "output_type": "stream",
     "text": [
      "4 torch.Size([2, 112, 32, 32])\n",
      "4 torch.Size([2, 256, 64, 64])\n",
      "\n",
      "3 torch.Size([2, 112, 64, 64])\n",
      "3 torch.Size([2, 128, 128, 128])\n",
      "\n",
      "2 torch.Size([2, 112, 128, 128])\n",
      "2 torch.Size([2, 64, 256, 256])\n",
      "\n",
      "1 torch.Size([2, 48, 256, 256])\n",
      "1 torch.Size([2, 16, 512, 512])\n",
      "\n",
      "0 torch.Size([2, 16, 512, 512])\n",
      "0 torch.Size([2, 3, 512, 512])\n",
      "\n"
     ]
    },
    {
     "name": "stderr",
     "output_type": "stream",
     "text": [
      "/home/ahmed/.local/lib/python3.8/site-packages/torch/nn/functional.py:4215: UserWarning: Default grid_sample and affine_grid behavior has changed to align_corners=False since 1.3.0. Please specify align_corners=True if the old behavior is desired. See the documentation of grid_sample for details.\n",
      "  warnings.warn(\n"
     ]
    }
   ],
   "source": [
    "size = 512\n",
    "depth = 5\n",
    "batch = 2\n",
    "model = Encoder_decoder(depth=depth).cuda()\n",
    "x1, x2 = [], []\n",
    "for i in range(depth):\n",
    "    x1.append(torch.rand(batch, 3, size, size).cuda())\n",
    "    x2.append(torch.rand(batch, 1, size, size).cuda())\n",
    "    size = size //2\n",
    "f = model(x1, x2)"
   ]
  },
  {
   "cell_type": "code",
   "execution_count": null,
   "id": "f2801a7c",
   "metadata": {},
   "outputs": [],
   "source": []
  },
  {
   "cell_type": "code",
   "execution_count": null,
   "id": "c538428b",
   "metadata": {},
   "outputs": [],
   "source": []
  }
 ],
 "metadata": {
  "kernelspec": {
   "display_name": "Python 3",
   "language": "python",
   "name": "python3"
  },
  "language_info": {
   "codemirror_mode": {
    "name": "ipython",
    "version": 3
   },
   "file_extension": ".py",
   "mimetype": "text/x-python",
   "name": "python",
   "nbconvert_exporter": "python",
   "pygments_lexer": "ipython3",
   "version": "3.8.10"
  }
 },
 "nbformat": 4,
 "nbformat_minor": 5
}
