{
 "cells": [
  {
   "cell_type": "code",
   "execution_count": 1,
   "id": "9ea40d7f",
   "metadata": {},
   "outputs": [],
   "source": [
    "import sys\n",
    "sys.path.append(sys.path[0]+'/../')\n",
    "\n",
    "import torch\n",
    "import torch.nn as nn\n",
    "import time\n",
    "from tqdm import tqdm\n",
    "from torchsummary import summary\n",
    "from torch.utils.data import DataLoader\n",
    "from torch.utils.tensorboard import SummaryWriter\n",
    "\n",
    "from dataloaders.minc_dataloader import MINCDataset, MINCDataLoader\n",
    "from dataloaders.irh_dataloader import IRHDataset\n",
    "\n",
    "from utils.loss_resnet import LossRN\n",
    "\n",
    "from torchvision.models import efficientnet_v2_s, EfficientNet_V2_S_Weights\n",
    "from torchvision.models import swin_t, Swin_T_Weights, swin_s, Swin_S_Weights, swin_b, Swin_B_Weights, swin_v2_s, Swin_V2_S_Weights\n"
   ]
  },
  {
   "cell_type": "code",
   "execution_count": 2,
   "id": "b814c29c",
   "metadata": {},
   "outputs": [],
   "source": [
    "minc_path = '/home/ahmed/workspace/notebook/matrec/datasets/minc'\n",
    "labels_path = '/home/ahmed/workspace/notebook/matrec/datasets/minc/train.txt'\n",
    "labels_path_t = '/home/ahmed/workspace/notebook/matrec/datasets/minc/test.txt'\n",
    "\n",
    "irh_path = \"../datasets/irh/img_raw\"\n",
    "label_irh = \"../datasets/irh/files/dataset.csv\"\n",
    "\n",
    "BATCH_SIZE = 6\n",
    "TRAIN_ITER = 10000\n",
    "TEST_ITER = 400\n",
    "LOAD = True\n",
    "start = 150000\n",
    "lr = 0.00001\n",
    "size = 300\n",
    "\n",
    "#train_dataloader = MINCDataLoader(minc_path, labels_path, batch_size=BATCH_SIZE, size=size, f=0.16)\n",
    "\n",
    "dataset_test = MINCDataset(minc_path, labels_path_t, size=(size, size))\n",
    "test_loader = DataLoader(dataset=dataset_test, batch_size=BATCH_SIZE, num_workers=0, pin_memory=False, shuffle=True)\n",
    "\n",
    "\n",
    "dataset_irh = IRHDataset(irh_path, label_irh, size=(size, size))\n",
    "dataloader_irh = DataLoader(dataset=dataset_irh, batch_size=BATCH_SIZE, num_workers=BATCH_SIZE, pin_memory=False, shuffle=True)\n"
   ]
  },
  {
   "cell_type": "code",
   "execution_count": 3,
   "id": "2476dc61",
   "metadata": {},
   "outputs": [],
   "source": [
    "from torchvision.models import resnet50\n",
    "\n",
    "checkpoint = \"../weights/resnet50_irh_.pth\"\n",
    "\n",
    "model = resnet50()\n",
    "model.fc = nn.Linear(model.fc.in_features, 15)\n",
    "model.load_state_dict(torch.load(checkpoint), strict=False)\n",
    "\"\"\"for param in model.parameters():\n",
    "    param.requires_grad = False\n",
    "for param in model.fc.parameters():\n",
    "    param.requires_grad = True\"\"\"\n",
    "model = model.cuda()\n",
    "optimizer = torch.optim.Adam(model.parameters(), lr=lr)\n",
    "loss = LossRN()"
   ]
  },
  {
   "cell_type": "code",
   "execution_count": 4,
   "id": "77d337a5",
   "metadata": {},
   "outputs": [
    {
     "name": "stderr",
     "output_type": "stream",
     "text": [
      "                                                                          \r"
     ]
    },
    {
     "ename": "KeyboardInterrupt",
     "evalue": "",
     "output_type": "error",
     "traceback": [
      "\u001b[0;31m---------------------------------------------------------------------------\u001b[0m",
      "\u001b[0;31mKeyboardInterrupt\u001b[0m                         Traceback (most recent call last)",
      "\u001b[0;32m<ipython-input-4-8a02dcf36bc4>\u001b[0m in \u001b[0;36m<module>\u001b[0;34m\u001b[0m\n\u001b[1;32m     11\u001b[0m         \u001b[0moptimizer\u001b[0m\u001b[0;34m.\u001b[0m\u001b[0mstep\u001b[0m\u001b[0;34m(\u001b[0m\u001b[0;34m)\u001b[0m\u001b[0;34m\u001b[0m\u001b[0;34m\u001b[0m\u001b[0m\n\u001b[1;32m     12\u001b[0m         \u001b[0moptimizer\u001b[0m\u001b[0;34m.\u001b[0m\u001b[0mzero_grad\u001b[0m\u001b[0;34m(\u001b[0m\u001b[0;34m)\u001b[0m\u001b[0;34m\u001b[0m\u001b[0;34m\u001b[0m\u001b[0m\n\u001b[0;32m---> 13\u001b[0;31m         \u001b[0mr\u001b[0m\u001b[0;34m.\u001b[0m\u001b[0mset_postfix\u001b[0m\u001b[0;34m(\u001b[0m\u001b[0mloss\u001b[0m\u001b[0;34m=\u001b[0m\u001b[0mlf\u001b[0m\u001b[0;34m.\u001b[0m\u001b[0mitem\u001b[0m\u001b[0;34m(\u001b[0m\u001b[0;34m)\u001b[0m\u001b[0;34m)\u001b[0m\u001b[0;34m\u001b[0m\u001b[0;34m\u001b[0m\u001b[0m\n\u001b[0m\u001b[1;32m     14\u001b[0m \u001b[0mtorch\u001b[0m\u001b[0;34m.\u001b[0m\u001b[0msave\u001b[0m\u001b[0;34m(\u001b[0m\u001b[0mmodel\u001b[0m\u001b[0;34m.\u001b[0m\u001b[0mstate_dict\u001b[0m\u001b[0;34m(\u001b[0m\u001b[0;34m)\u001b[0m\u001b[0;34m,\u001b[0m \u001b[0mcheckpoint\u001b[0m\u001b[0;34m)\u001b[0m\u001b[0;34m\u001b[0m\u001b[0;34m\u001b[0m\u001b[0m\n\u001b[1;32m     15\u001b[0m \u001b[0mprint\u001b[0m\u001b[0;34m(\u001b[0m\u001b[0;34m\"done!!\"\u001b[0m\u001b[0;34m)\u001b[0m\u001b[0;34m\u001b[0m\u001b[0;34m\u001b[0m\u001b[0m\n",
      "\u001b[0;31mKeyboardInterrupt\u001b[0m: "
     ]
    }
   ],
   "source": [
    "#add augmentation\n",
    "#rescaling [0, 1] and normalization (mean, std)\n",
    "#10+10+50+130\n",
    "for epc in range(130):\n",
    "    r = tqdm(dataloader_irh, leave=False, desc=\"Epoch {}: \".format(epc+1), total=len(dataloader_irh))    \n",
    "    \n",
    "    for x, y in r:\n",
    "        y_pred = model(x.cuda())\n",
    "        lf = loss.compute(y_pred, y)\n",
    "        lf.backward()\n",
    "        optimizer.step()\n",
    "        optimizer.zero_grad()\n",
    "        r.set_postfix(loss=lf.item())\n",
    "torch.save(model.state_dict(), checkpoint)\n",
    "print(\"done!!\")"
   ]
  },
  {
   "cell_type": "code",
   "execution_count": null,
   "id": "de15ac29",
   "metadata": {},
   "outputs": [],
   "source": []
  }
 ],
 "metadata": {
  "kernelspec": {
   "display_name": "Python 3",
   "language": "python",
   "name": "python3"
  },
  "language_info": {
   "codemirror_mode": {
    "name": "ipython",
    "version": 3
   },
   "file_extension": ".py",
   "mimetype": "text/x-python",
   "name": "python",
   "nbconvert_exporter": "python",
   "pygments_lexer": "ipython3",
   "version": "3.8.10"
  }
 },
 "nbformat": 4,
 "nbformat_minor": 5
}
