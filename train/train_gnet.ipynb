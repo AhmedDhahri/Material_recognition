{
 "cells": [
  {
   "cell_type": "code",
   "execution_count": 1,
   "id": "e7938bb2",
   "metadata": {},
   "outputs": [],
   "source": [
    "import sys\n",
    "sys.path.append(sys.path[0]+'/../')\n",
    "\n",
    "import torch\n",
    "import torch.nn as nn\n",
    "import time\n",
    "from tqdm import tqdm\n",
    "from torchsummary import summary\n",
    "from torch.utils.data import DataLoader\n",
    "\n",
    "from dataloaders.minc_dataloader import MINCDataset, MINCDataLoader\n",
    "from utils.loss_resnet import LossRN\n",
    "\n"
   ]
  },
  {
   "cell_type": "code",
   "execution_count": 2,
   "id": "e8349cfb",
   "metadata": {},
   "outputs": [],
   "source": [
    "minc_path = '/home/ahmed/workspace/notebook/matrec/datasets/minc'\n",
    "labels_path = '/home/ahmed/workspace/notebook/matrec/datasets/minc/train.txt'\n",
    "labels_path_t = '/home/ahmed/workspace/notebook/matrec/datasets/minc/test.txt'\n",
    "BATCH_SIZE = 4\n",
    "TRAIN_ITER = 10000\n",
    "TEST_ITER = 400\n",
    "start = 220000\n",
    "lr = 0.0000005\n",
    "size = 256\n",
    "\n",
    "train_dataloader = MINCDataLoader(minc_path, labels_path, batch_size=BATCH_SIZE, size=size, f=0.16)\n",
    "dataset_test = MINCDataset(minc_path, labels_path_t, size=(size, size))\n",
    "test_loader = DataLoader(dataset=dataset_test, batch_size=BATCH_SIZE, num_workers=0, pin_memory=False, shuffle=True)"
   ]
  },
  {
   "cell_type": "code",
   "execution_count": 3,
   "id": "ae8353be",
   "metadata": {},
   "outputs": [],
   "source": [
    "from torchvision.models import googlenet, GoogLeNet_Weights\n",
    "\n",
    "checkpoint = \"../weights/googlenet_minc.pth\"\n",
    "\n",
    "model = googlenet(weights=GoogLeNet_Weights.IMAGENET1K_V1)\n",
    "model.fc = nn.Linear(model.fc.in_features, 23, bias=True)\n",
    "model.load_state_dict(torch.load(checkpoint), strict=False)\n",
    "\n",
    "model = model.train()\n",
    "model = model.cuda()\n",
    "optimizer = torch.optim.Adam(model.parameters(), lr=lr)\n",
    "loss = LossRN()"
   ]
  },
  {
   "cell_type": "code",
   "execution_count": null,
   "id": "5be48668",
   "metadata": {},
   "outputs": [
    {
     "name": "stderr",
     "output_type": "stream",
     "text": [
      "Epoch 1 starting from iteration 300000:  18%|█▊        | 10003/56502 [11:51<60:03:10,  4.65s/it, loss=0.0495]"
     ]
    },
    {
     "name": "stdout",
     "output_type": "stream",
     "text": [
      "Test N 1-31 : 72.25\n",
      "\n"
     ]
    },
    {
     "name": "stderr",
     "output_type": "stream",
     "text": [
      "Epoch 1 starting from iteration 300000:  35%|███▌      | 20002/56502 [24:04<66:13:42,  6.53s/it, loss=0.114] "
     ]
    },
    {
     "name": "stdout",
     "output_type": "stream",
     "text": [
      "Test N 1-32 : 72.9375\n",
      "\n"
     ]
    },
    {
     "name": "stderr",
     "output_type": "stream",
     "text": [
      "Epoch 1 starting from iteration 300000:  53%|█████▎    | 30003/56502 [36:28<30:44:17,  4.18s/it, loss=1.45]  "
     ]
    },
    {
     "name": "stdout",
     "output_type": "stream",
     "text": [
      "Test N 1-33 : 73.5\n",
      "\n"
     ]
    },
    {
     "name": "stderr",
     "output_type": "stream",
     "text": [
      "Epoch 1 starting from iteration 300000:  71%|███████   | 40003/56502 [48:45<23:01:31,  5.02s/it, loss=0.589]  "
     ]
    },
    {
     "name": "stdout",
     "output_type": "stream",
     "text": [
      "Test N 1-34 : 72.125\n",
      "\n"
     ]
    },
    {
     "name": "stderr",
     "output_type": "stream",
     "text": [
      "Epoch 1 starting from iteration 300000:  88%|████████▊ | 50003/56502 [1:01:09<8:26:26,  4.68s/it, loss=0.422] "
     ]
    },
    {
     "name": "stdout",
     "output_type": "stream",
     "text": [
      "Test N 1-35 : 73.9375\n",
      "\n"
     ]
    },
    {
     "name": "stderr",
     "output_type": "stream",
     "text": [
      "Epoch 2 starting from iteration 0:   3%|▎         | 10003/356502 [12:25<397:26:41,  4.13s/it, loss=0.26]      "
     ]
    },
    {
     "name": "stdout",
     "output_type": "stream",
     "text": [
      "Test N 2-1 : 72.75\n",
      "\n"
     ]
    },
    {
     "name": "stderr",
     "output_type": "stream",
     "text": [
      "Epoch 2 starting from iteration 0:   6%|▌         | 20004/356502 [24:51<349:23:39,  3.74s/it, loss=0.0245]"
     ]
    },
    {
     "name": "stdout",
     "output_type": "stream",
     "text": [
      "Test N 2-2 : 72.625\n",
      "\n"
     ]
    },
    {
     "name": "stderr",
     "output_type": "stream",
     "text": [
      "Epoch 2 starting from iteration 0:   8%|▊         | 30003/356502 [37:26<391:41:23,  4.32s/it, loss=1.05]  "
     ]
    },
    {
     "name": "stdout",
     "output_type": "stream",
     "text": [
      "Test N 2-3 : 73.125\n",
      "\n"
     ]
    },
    {
     "name": "stderr",
     "output_type": "stream",
     "text": [
      "Epoch 2 starting from iteration 0:  11%|█         | 40003/356502 [49:35<441:34:40,  5.02s/it, loss=0.181] "
     ]
    },
    {
     "name": "stdout",
     "output_type": "stream",
     "text": [
      "Test N 2-4 : 73.5\n",
      "\n"
     ]
    },
    {
     "name": "stderr",
     "output_type": "stream",
     "text": [
      "Epoch 2 starting from iteration 0:  14%|█▍        | 50004/356502 [1:01:25<303:04:59,  3.56s/it, loss=0.0976]"
     ]
    },
    {
     "name": "stdout",
     "output_type": "stream",
     "text": [
      "Test N 2-5 : 73.3125\n",
      "\n"
     ]
    },
    {
     "name": "stderr",
     "output_type": "stream",
     "text": [
      "Epoch 2 starting from iteration 0:  17%|█▋        | 60001/356502 [1:13:15<606:49:47,  7.37s/it, loss=0.083] "
     ]
    },
    {
     "name": "stdout",
     "output_type": "stream",
     "text": [
      "Test N 2-6 : 74.25\n",
      "\n"
     ]
    },
    {
     "name": "stderr",
     "output_type": "stream",
     "text": [
      "Epoch 2 starting from iteration 0:  20%|█▉        | 70003/356502 [1:25:07<278:27:32,  3.50s/it, loss=2.05]  "
     ]
    },
    {
     "name": "stdout",
     "output_type": "stream",
     "text": [
      "Test N 2-7 : 74.5625\n",
      "\n"
     ]
    },
    {
     "name": "stderr",
     "output_type": "stream",
     "text": [
      "Epoch 2 starting from iteration 0:  22%|██▏       | 80003/356502 [1:37:40<334:32:26,  4.36s/it, loss=0.278] "
     ]
    },
    {
     "name": "stdout",
     "output_type": "stream",
     "text": [
      "Test N 2-8 : 74.75\n",
      "\n"
     ]
    },
    {
     "name": "stderr",
     "output_type": "stream",
     "text": [
      "Epoch 2 starting from iteration 0:  25%|██▌       | 90003/356502 [1:50:21<340:33:16,  4.60s/it, loss=0.997] "
     ]
    },
    {
     "name": "stdout",
     "output_type": "stream",
     "text": [
      "Test N 2-9 : 72.9375\n",
      "\n"
     ]
    },
    {
     "name": "stderr",
     "output_type": "stream",
     "text": [
      "Epoch 2 starting from iteration 0:  28%|██▊       | 100003/356502 [2:03:12<336:35:02,  4.72s/it, loss=0.371]"
     ]
    },
    {
     "name": "stdout",
     "output_type": "stream",
     "text": [
      "Test N 2-10 : 73.8125\n",
      "\n"
     ]
    },
    {
     "name": "stderr",
     "output_type": "stream",
     "text": [
      "Epoch 2 starting from iteration 0:  31%|███       | 110003/356502 [2:16:00<331:03:03,  4.83s/it, loss=0.131] "
     ]
    },
    {
     "name": "stdout",
     "output_type": "stream",
     "text": [
      "Test N 2-11 : 73.6875\n",
      "\n"
     ]
    },
    {
     "name": "stderr",
     "output_type": "stream",
     "text": [
      "Epoch 2 starting from iteration 0:  34%|███▎      | 120003/356502 [2:28:43<316:36:34,  4.82s/it, loss=0.26]  "
     ]
    },
    {
     "name": "stdout",
     "output_type": "stream",
     "text": [
      "Test N 2-12 : 72.375\n",
      "\n"
     ]
    },
    {
     "name": "stderr",
     "output_type": "stream",
     "text": [
      "Epoch 2 starting from iteration 0:  36%|███▋      | 130003/356502 [2:41:30<298:40:29,  4.75s/it, loss=0.773] "
     ]
    },
    {
     "name": "stdout",
     "output_type": "stream",
     "text": [
      "Test N 2-13 : 72.6875\n",
      "\n"
     ]
    },
    {
     "name": "stderr",
     "output_type": "stream",
     "text": [
      "Epoch 2 starting from iteration 0:  39%|███▉      | 140004/356502 [2:54:18<248:21:45,  4.13s/it, loss=0.211] "
     ]
    },
    {
     "name": "stdout",
     "output_type": "stream",
     "text": [
      "Test N 2-14 : 73.875\n",
      "\n"
     ]
    },
    {
     "name": "stderr",
     "output_type": "stream",
     "text": [
      "Epoch 2 starting from iteration 0:  42%|████▏     | 150003/356502 [3:07:08<296:27:57,  5.17s/it, loss=0.756] "
     ]
    },
    {
     "name": "stdout",
     "output_type": "stream",
     "text": [
      "Test N 2-15 : 73.0625\n",
      "\n"
     ]
    },
    {
     "name": "stderr",
     "output_type": "stream",
     "text": [
      "Epoch 2 starting from iteration 0:  45%|████▍     | 160003/356502 [3:19:50<269:40:30,  4.94s/it, loss=0.573]"
     ]
    },
    {
     "name": "stdout",
     "output_type": "stream",
     "text": [
      "Test N 2-16 : 73.1875\n",
      "\n"
     ]
    },
    {
     "name": "stderr",
     "output_type": "stream",
     "text": [
      "Epoch 2 starting from iteration 0:  48%|████▊     | 170004/356502 [3:32:54<224:03:03,  4.32s/it, loss=0.117] "
     ]
    },
    {
     "name": "stdout",
     "output_type": "stream",
     "text": [
      "Test N 2-17 : 72.5625\n",
      "\n"
     ]
    },
    {
     "name": "stderr",
     "output_type": "stream",
     "text": [
      "Epoch 2 starting from iteration 0:  50%|█████     | 180001/356502 [3:45:56<339:36:40,  6.93s/it, loss=0.254] "
     ]
    },
    {
     "name": "stdout",
     "output_type": "stream",
     "text": [
      "Test N 2-18 : 73.4375\n",
      "\n"
     ]
    },
    {
     "name": "stderr",
     "output_type": "stream",
     "text": [
      "Epoch 2 starting from iteration 0:  53%|█████▎    | 190002/356502 [3:59:06<252:34:41,  5.46s/it, loss=0.228] "
     ]
    },
    {
     "name": "stdout",
     "output_type": "stream",
     "text": [
      "Test N 2-19 : 71.875\n",
      "\n"
     ]
    },
    {
     "name": "stderr",
     "output_type": "stream",
     "text": [
      "Epoch 2 starting from iteration 0:  56%|█████▌    | 200003/356502 [4:11:27<200:12:34,  4.61s/it, loss=0.953] "
     ]
    },
    {
     "name": "stdout",
     "output_type": "stream",
     "text": [
      "Test N 2-20 : 72.6875\n",
      "\n"
     ]
    },
    {
     "name": "stderr",
     "output_type": "stream",
     "text": [
      "Epoch 2 starting from iteration 0:  59%|█████▉    | 210003/356502 [4:23:39<207:05:14,  5.09s/it, loss=0.449] "
     ]
    },
    {
     "name": "stdout",
     "output_type": "stream",
     "text": [
      "Test N 2-21 : 74.375\n",
      "\n"
     ]
    },
    {
     "name": "stderr",
     "output_type": "stream",
     "text": [
      "Epoch 2 starting from iteration 0:  62%|██████▏   | 220004/356502 [4:35:38<162:57:30,  4.30s/it, loss=0.357] "
     ]
    },
    {
     "name": "stdout",
     "output_type": "stream",
     "text": [
      "Test N 2-22 : 73.75\n",
      "\n"
     ]
    },
    {
     "name": "stderr",
     "output_type": "stream",
     "text": [
      "Epoch 2 starting from iteration 0:  62%|██████▏   | 221983/356502 [4:37:54<2:10:25, 17.19it/s, loss=0.142]  "
     ]
    }
   ],
   "source": [
    "for epc in range(1,3):\n",
    "    r = tqdm(range(start, len(train_dataloader)), leave=False, desc=\"Epoch {} starting from iteration {}: \".format(epc, start), \n",
    "                                                                     total=len(train_dataloader)-start)    \n",
    "    \n",
    "    for idx in r:\n",
    "        x, y = train_dataloader[idx]\n",
    "        y_pred = model(x.cuda())\n",
    "        lf = loss.compute(y_pred, y)\n",
    "        lf.backward()\n",
    "        optimizer.step()\n",
    "        optimizer.zero_grad()\n",
    "        r.set_postfix(loss=lf.item())\n",
    "        \n",
    "        if idx % TRAIN_ITER == 0 and idx != start:\n",
    "            #save checkpoint\n",
    "            torch.save(model.state_dict(), checkpoint)\n",
    "            #test loss run on val\n",
    "            with torch.no_grad():\n",
    "                ac = 0\n",
    "                for i in range(TEST_ITER):\n",
    "                    x, y = next(iter(test_loader))\n",
    "                    y_pred = model(x.cuda())\n",
    "                    ac = ac + loss.accuracy(y_pred, y)\n",
    "                ac = ac/TEST_ITER\n",
    "                print('Test N ' + str(epc) + '-' + str(idx//TRAIN_ITER) + ' : ' + str(float(ac)) + '\\n')\n",
    "        start = 0"
   ]
  },
  {
   "cell_type": "code",
   "execution_count": null,
   "id": "3f53b62f",
   "metadata": {},
   "outputs": [],
   "source": []
  }
 ],
 "metadata": {
  "kernelspec": {
   "display_name": "Python 3",
   "language": "python",
   "name": "python3"
  },
  "language_info": {
   "codemirror_mode": {
    "name": "ipython",
    "version": 3
   },
   "file_extension": ".py",
   "mimetype": "text/x-python",
   "name": "python",
   "nbconvert_exporter": "python",
   "pygments_lexer": "ipython3",
   "version": "3.8.10"
  }
 },
 "nbformat": 4,
 "nbformat_minor": 5
}
