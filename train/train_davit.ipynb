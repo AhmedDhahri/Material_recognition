{
 "cells": [
  {
   "cell_type": "code",
   "execution_count": 1,
   "id": "f543456f",
   "metadata": {},
   "outputs": [
    {
     "name": "stdout",
     "output_type": "stream",
     "text": [
      "['/home/ahmed/workspace/notebook/matrec/train', '', '/home/ahmed/workspace/ros2/install/rslidar_msg/lib/python3.8/site-packages', '/home/ahmed/workspace/ros2/install/kia_soul/lib/python3.8/site-packages', '/home/ahmed/workspace/ros2/install/dynamixel_sdk_custom_interfaces/lib/python3.8/site-packages', '/home/ahmed/workspace/ros2/install/can_msgs/lib/python3.8/site-packages', '/home/ahmed/workspace/ros2/install/campus_dae/lib/python3.8/site-packages', '/home/ahmed/workspace/ros2/install/apollo_msgs/lib/python3.8/site-packages', '/opt/ros/foxy/lib/python3.8/site-packages', '/usr/lib/python38.zip', '/usr/lib/python3.8', '/usr/lib/python3.8/lib-dynload', '/home/ahmed/.local/lib/python3.8/site-packages', '/usr/local/lib/python3.8/dist-packages', '/usr/local/lib/python3.8/dist-packages/yapf-0.32.0-py3.8.egg', '/usr/local/lib/python3.8/dist-packages/yacs-0.1.8-py3.8.egg', '/usr/local/lib/python3.8/dist-packages/tb_nightly-2.10.0a20220718-py3.8.egg', '/usr/local/lib/python3.8/dist-packages/isort-4.3.21-py3.8.egg', '/usr/local/lib/python3.8/dist-packages/imageio-2.19.5-py3.8.egg', '/usr/local/lib/python3.8/dist-packages/h5py-3.7.0-py3.8-linux-x86_64.egg', '/usr/local/lib/python3.8/dist-packages/future-0.18.2-py3.8.egg', '/usr/local/lib/python3.8/dist-packages/flake8-4.0.1-py3.8.egg', '/usr/lib/python3/dist-packages', '/usr/lib/python3/dist-packages/IPython/extensions', '/home/ahmed/.ipython', '/home/ahmed/workspace/notebook/matrec/train/../', '/home/ahmed/workspace/notebook/matrec/train/../models/davit/']\n"
     ]
    },
    {
     "ename": "ModuleNotFoundError",
     "evalue": "No module named 'ssim'",
     "output_type": "error",
     "traceback": [
      "\u001b[0;31m---------------------------------------------------------------------------\u001b[0m",
      "\u001b[0;31mModuleNotFoundError\u001b[0m                       Traceback (most recent call last)",
      "\u001b[0;32m<ipython-input-1-a786afe66a63>\u001b[0m in \u001b[0;36m<module>\u001b[0;34m\u001b[0m\n\u001b[1;32m     13\u001b[0m \u001b[0;34m\u001b[0m\u001b[0m\n\u001b[1;32m     14\u001b[0m \u001b[0;32mfrom\u001b[0m \u001b[0mdataloaders\u001b[0m\u001b[0;34m.\u001b[0m\u001b[0mminc_dataloader\u001b[0m \u001b[0;32mimport\u001b[0m \u001b[0mMINCDataset\u001b[0m\u001b[0;34m,\u001b[0m \u001b[0mMINCDataLoader\u001b[0m\u001b[0;34m\u001b[0m\u001b[0;34m\u001b[0m\u001b[0m\n\u001b[0;32m---> 15\u001b[0;31m \u001b[0;32mfrom\u001b[0m \u001b[0mutils\u001b[0m\u001b[0;34m.\u001b[0m\u001b[0mutils\u001b[0m \u001b[0;32mimport\u001b[0m \u001b[0mCosineDecayLR\u001b[0m\u001b[0;34m,\u001b[0m \u001b[0mMetrics\u001b[0m\u001b[0;34m\u001b[0m\u001b[0;34m\u001b[0m\u001b[0m\n\u001b[0m\u001b[1;32m     16\u001b[0m \u001b[0;32mfrom\u001b[0m \u001b[0mtimm\u001b[0m\u001b[0;34m.\u001b[0m\u001b[0mmodels\u001b[0m\u001b[0;34m.\u001b[0m\u001b[0mdavit\u001b[0m \u001b[0;32mimport\u001b[0m \u001b[0mDaViT\u001b[0m\u001b[0;34m\u001b[0m\u001b[0;34m\u001b[0m\u001b[0m\n",
      "\u001b[0;32m~/workspace/notebook/matrec/train/../utils/utils.py\u001b[0m in \u001b[0;36m<module>\u001b[0;34m\u001b[0m\n\u001b[1;32m      3\u001b[0m \u001b[0;34m\u001b[0m\u001b[0m\n\u001b[1;32m      4\u001b[0m \u001b[0;32mimport\u001b[0m \u001b[0mtorch\u001b[0m\u001b[0;34m\u001b[0m\u001b[0;34m\u001b[0m\u001b[0m\n\u001b[0;32m----> 5\u001b[0;31m \u001b[0;32mfrom\u001b[0m \u001b[0mssim\u001b[0m \u001b[0;32mimport\u001b[0m \u001b[0mSSIM\u001b[0m\u001b[0;34m\u001b[0m\u001b[0;34m\u001b[0m\u001b[0m\n\u001b[0m\u001b[1;32m      6\u001b[0m \u001b[0;32mfrom\u001b[0m \u001b[0mvgg_layers\u001b[0m \u001b[0;32mimport\u001b[0m \u001b[0mPerceptual_Loss\u001b[0m\u001b[0;34m\u001b[0m\u001b[0;34m\u001b[0m\u001b[0m\n\u001b[1;32m      7\u001b[0m \u001b[0;32mimport\u001b[0m \u001b[0mtorchvision\u001b[0m\u001b[0;34m.\u001b[0m\u001b[0mmodels\u001b[0m \u001b[0;32mas\u001b[0m \u001b[0mmodels\u001b[0m\u001b[0;34m\u001b[0m\u001b[0;34m\u001b[0m\u001b[0m\n",
      "\u001b[0;31mModuleNotFoundError\u001b[0m: No module named 'ssim'"
     ]
    }
   ],
   "source": [
    "import sys\n",
    "sys.path.append(sys.path[0] + '/../')\n",
    "sys.path.append(sys.path[0] + '/../models/davit/')\n",
    "\n",
    "import torch\n",
    "import torch.nn as nn\n",
    "import time\n",
    "from tqdm import tqdm\n",
    "from torchsummary import summary\n",
    "from torch.utils.data import DataLoader\n",
    "from torch.utils.tensorboard import SummaryWriter\n",
    "\n",
    "from dataloaders.minc_dataloader import MINCDataset, MINCDataLoader\n",
    "from utils.utils import CosineDecayLR, Metrics\n",
    "from timm.models.davit import DaViT"
   ]
  },
  {
   "cell_type": "code",
   "execution_count": null,
   "id": "71f10422",
   "metadata": {},
   "outputs": [],
   "source": [
    "minc_path = '/home/ahmed/workspace/notebook/matrec/datasets/minc'\n",
    "labels_path = '/home/ahmed/workspace/notebook/matrec/datasets/minc/train.txt'\n",
    "labels_path_t = '/home/ahmed/workspace/notebook/matrec/datasets/minc/test.txt'\n",
    "checkpoint = \"../weights/davit_minc.pth\"\n",
    "\n",
    "\n",
    "BATCH_SIZE = 4\n",
    "TRAIN_ITER = 10000\n",
    "TEST_ITER = 400\n",
    "LOAD = False\n",
    "start = 0\n",
    "lr = 0.00001\n",
    "size = 256\n",
    "\n",
    "train_dataloader = MINCDataLoader(minc_path, labels_path, batch_size=BATCH_SIZE, size=size, f=0.16)\n",
    "\n",
    "dataset_test = MINCDataset(minc_path, labels_path_t, size=(size, size))\n",
    "test_loader = DataLoader(dataset=dataset_test, batch_size=BATCH_SIZE, num_workers=0, pin_memory=False, shuffle=True)\n",
    "\n",
    "\n",
    "model = DaViT(num_classes=23)"
   ]
  },
  {
   "cell_type": "code",
   "execution_count": null,
   "id": "38f6e319",
   "metadata": {},
   "outputs": [],
   "source": [
    "if LOAD:\n",
    "    model.load_state_dict(torch.load(checkpoint), strict=False)\n",
    "model = model.train()\n",
    "model = model.cuda()\n",
    "optimizer = torch.optim.Adam(model.parameters(), lr=lr)\n",
    "metrics = Metrics()"
   ]
  },
  {
   "cell_type": "code",
   "execution_count": null,
   "id": "bd050cd7",
   "metadata": {},
   "outputs": [],
   "source": [
    "#add augmentation\n",
    "#rescaling [0, 1] and normalization (mean, std)\n",
    "for epc in range(1,3):\n",
    "    r = tqdm(range(start, len(train_dataloader)), leave=False, desc=\"Epoch {} starting from iteration {}: \".format(epc, start), \n",
    "                                                                     total=len(train_dataloader)-start)    \n",
    "    \n",
    "    for idx in r:\n",
    "        x, y = train_dataloader[idx]\n",
    "        y_pred = model(x.cuda())\n",
    "        lf = metrics.compute(y_pred, y)\n",
    "        lf.backward()\n",
    "        optimizer.step()\n",
    "        optimizer.zero_grad()\n",
    "        r.set_postfix(loss=lf.item())\n",
    "        \n",
    "        if idx % TRAIN_ITER == 0 and idx != start:\n",
    "            #save checkpoint\n",
    "            torch.save(model.state_dict(), checkpoint)\n",
    "            #test loss run on val\n",
    "            with torch.no_grad():\n",
    "                ac = 0\n",
    "                for i in range(TEST_ITER):\n",
    "                    x, y = next(iter(test_loader))\n",
    "                    y_pred = model(x.cuda())\n",
    "                    ac = ac + loss.accuracy(y_pred, y)\n",
    "                ac = ac/TEST_ITER\n",
    "                print('Test N ' + str(epc) + '-' + str(idx//TRAIN_ITER) + ' : ' + str(float(ac)) + '\\n')\n",
    "    start = 0\n",
    "    torch.save(model.state_dict(), checkpoint)"
   ]
  },
  {
   "cell_type": "code",
   "execution_count": null,
   "id": "522bbf4a",
   "metadata": {},
   "outputs": [],
   "source": []
  },
  {
   "cell_type": "code",
   "execution_count": null,
   "id": "8a27460e",
   "metadata": {},
   "outputs": [],
   "source": []
  }
 ],
 "metadata": {
  "kernelspec": {
   "display_name": "Python 3",
   "language": "python",
   "name": "python3"
  },
  "language_info": {
   "codemirror_mode": {
    "name": "ipython",
    "version": 3
   },
   "file_extension": ".py",
   "mimetype": "text/x-python",
   "name": "python",
   "nbconvert_exporter": "python",
   "pygments_lexer": "ipython3",
   "version": "3.8.10"
  }
 },
 "nbformat": 4,
 "nbformat_minor": 5
}
